{
  "nbformat": 4,
  "nbformat_minor": 0,
  "metadata": {
    "colab": {
      "provenance": [],
      "gpuType": "T4"
    },
    "kernelspec": {
      "name": "python3",
      "display_name": "Python 3"
    },
    "language_info": {
      "name": "python"
    },
    "accelerator": "GPU"
  },
  "cells": [
    {
      "cell_type": "code",
      "execution_count": null,
      "metadata": {
        "colab": {
          "base_uri": "https://localhost:8080/",
          "height": 1000
        },
        "id": "iGnXkaMCQECx",
        "outputId": "5bad5a6e-e39f-4fb4-a72d-e464dc985c75"
      },
      "outputs": [
        {
          "output_type": "stream",
          "name": "stdout",
          "text": [
            "Collecting ultralytics\n",
            "  Downloading ultralytics-8.1.16-py3-none-any.whl (715 kB)\n",
            "\u001b[2K     \u001b[90m━━━━━━━━━━━━━━━━━━━━━━━━━━━━━━━━━━━━━━━━\u001b[0m \u001b[32m715.4/715.4 kB\u001b[0m \u001b[31m14.5 MB/s\u001b[0m eta \u001b[36m0:00:00\u001b[0m\n",
            "\u001b[?25hRequirement already satisfied: matplotlib>=3.3.0 in /usr/local/lib/python3.10/dist-packages (from ultralytics) (3.7.1)\n",
            "Requirement already satisfied: opencv-python>=4.6.0 in /usr/local/lib/python3.10/dist-packages (from ultralytics) (4.8.0.76)\n",
            "Requirement already satisfied: pillow>=7.1.2 in /usr/local/lib/python3.10/dist-packages (from ultralytics) (9.4.0)\n",
            "Requirement already satisfied: pyyaml>=5.3.1 in /usr/local/lib/python3.10/dist-packages (from ultralytics) (6.0.1)\n",
            "Requirement already satisfied: requests>=2.23.0 in /usr/local/lib/python3.10/dist-packages (from ultralytics) (2.31.0)\n",
            "Requirement already satisfied: scipy>=1.4.1 in /usr/local/lib/python3.10/dist-packages (from ultralytics) (1.11.4)\n",
            "Requirement already satisfied: torch>=1.8.0 in /usr/local/lib/python3.10/dist-packages (from ultralytics) (2.1.0+cu121)\n",
            "Requirement already satisfied: torchvision>=0.9.0 in /usr/local/lib/python3.10/dist-packages (from ultralytics) (0.16.0+cu121)\n",
            "Requirement already satisfied: tqdm>=4.64.0 in /usr/local/lib/python3.10/dist-packages (from ultralytics) (4.66.2)\n",
            "Requirement already satisfied: psutil in /usr/local/lib/python3.10/dist-packages (from ultralytics) (5.9.5)\n",
            "Requirement already satisfied: py-cpuinfo in /usr/local/lib/python3.10/dist-packages (from ultralytics) (9.0.0)\n",
            "Collecting thop>=0.1.1 (from ultralytics)\n",
            "  Downloading thop-0.1.1.post2209072238-py3-none-any.whl (15 kB)\n",
            "Requirement already satisfied: pandas>=1.1.4 in /usr/local/lib/python3.10/dist-packages (from ultralytics) (1.5.3)\n",
            "Requirement already satisfied: seaborn>=0.11.0 in /usr/local/lib/python3.10/dist-packages (from ultralytics) (0.13.1)\n",
            "Requirement already satisfied: contourpy>=1.0.1 in /usr/local/lib/python3.10/dist-packages (from matplotlib>=3.3.0->ultralytics) (1.2.0)\n",
            "Requirement already satisfied: cycler>=0.10 in /usr/local/lib/python3.10/dist-packages (from matplotlib>=3.3.0->ultralytics) (0.12.1)\n",
            "Requirement already satisfied: fonttools>=4.22.0 in /usr/local/lib/python3.10/dist-packages (from matplotlib>=3.3.0->ultralytics) (4.48.1)\n",
            "Requirement already satisfied: kiwisolver>=1.0.1 in /usr/local/lib/python3.10/dist-packages (from matplotlib>=3.3.0->ultralytics) (1.4.5)\n",
            "Requirement already satisfied: numpy>=1.20 in /usr/local/lib/python3.10/dist-packages (from matplotlib>=3.3.0->ultralytics) (1.25.2)\n",
            "Requirement already satisfied: packaging>=20.0 in /usr/local/lib/python3.10/dist-packages (from matplotlib>=3.3.0->ultralytics) (23.2)\n",
            "Requirement already satisfied: pyparsing>=2.3.1 in /usr/local/lib/python3.10/dist-packages (from matplotlib>=3.3.0->ultralytics) (3.1.1)\n",
            "Requirement already satisfied: python-dateutil>=2.7 in /usr/local/lib/python3.10/dist-packages (from matplotlib>=3.3.0->ultralytics) (2.8.2)\n",
            "Requirement already satisfied: pytz>=2020.1 in /usr/local/lib/python3.10/dist-packages (from pandas>=1.1.4->ultralytics) (2023.4)\n",
            "Requirement already satisfied: charset-normalizer<4,>=2 in /usr/local/lib/python3.10/dist-packages (from requests>=2.23.0->ultralytics) (3.3.2)\n",
            "Requirement already satisfied: idna<4,>=2.5 in /usr/local/lib/python3.10/dist-packages (from requests>=2.23.0->ultralytics) (3.6)\n",
            "Requirement already satisfied: urllib3<3,>=1.21.1 in /usr/local/lib/python3.10/dist-packages (from requests>=2.23.0->ultralytics) (2.0.7)\n",
            "Requirement already satisfied: certifi>=2017.4.17 in /usr/local/lib/python3.10/dist-packages (from requests>=2.23.0->ultralytics) (2024.2.2)\n",
            "Requirement already satisfied: filelock in /usr/local/lib/python3.10/dist-packages (from torch>=1.8.0->ultralytics) (3.13.1)\n",
            "Requirement already satisfied: typing-extensions in /usr/local/lib/python3.10/dist-packages (from torch>=1.8.0->ultralytics) (4.9.0)\n",
            "Requirement already satisfied: sympy in /usr/local/lib/python3.10/dist-packages (from torch>=1.8.0->ultralytics) (1.12)\n",
            "Requirement already satisfied: networkx in /usr/local/lib/python3.10/dist-packages (from torch>=1.8.0->ultralytics) (3.2.1)\n",
            "Requirement already satisfied: jinja2 in /usr/local/lib/python3.10/dist-packages (from torch>=1.8.0->ultralytics) (3.1.3)\n",
            "Requirement already satisfied: fsspec in /usr/local/lib/python3.10/dist-packages (from torch>=1.8.0->ultralytics) (2023.6.0)\n",
            "Requirement already satisfied: triton==2.1.0 in /usr/local/lib/python3.10/dist-packages (from torch>=1.8.0->ultralytics) (2.1.0)\n",
            "Requirement already satisfied: six>=1.5 in /usr/local/lib/python3.10/dist-packages (from python-dateutil>=2.7->matplotlib>=3.3.0->ultralytics) (1.16.0)\n",
            "Requirement already satisfied: MarkupSafe>=2.0 in /usr/local/lib/python3.10/dist-packages (from jinja2->torch>=1.8.0->ultralytics) (2.1.5)\n",
            "Requirement already satisfied: mpmath>=0.19 in /usr/local/lib/python3.10/dist-packages (from sympy->torch>=1.8.0->ultralytics) (1.3.0)\n",
            "Installing collected packages: thop, ultralytics\n",
            "Successfully installed thop-0.1.1.post2209072238 ultralytics-8.1.16\n",
            "Looking in indexes: https://download.pytorch.org/whl/cu121\n",
            "\u001b[31mERROR: Could not find a version that satisfies the requirement pip3 (from versions: none)\u001b[0m\u001b[31m\n",
            "\u001b[0m\u001b[31mERROR: No matching distribution found for pip3\u001b[0m\u001b[31m\n",
            "\u001b[0mCollecting roboflow\n",
            "  Downloading roboflow-1.1.19-py3-none-any.whl (70 kB)\n",
            "\u001b[2K     \u001b[90m━━━━━━━━━━━━━━━━━━━━━━━━━━━━━━━━━━━━━━━━\u001b[0m \u001b[32m70.2/70.2 kB\u001b[0m \u001b[31m3.0 MB/s\u001b[0m eta \u001b[36m0:00:00\u001b[0m\n",
            "\u001b[?25hCollecting certifi==2023.7.22 (from roboflow)\n",
            "  Downloading certifi-2023.7.22-py3-none-any.whl (158 kB)\n",
            "\u001b[2K     \u001b[90m━━━━━━━━━━━━━━━━━━━━━━━━━━━━━━━━━━━━━━━━\u001b[0m \u001b[32m158.3/158.3 kB\u001b[0m \u001b[31m8.7 MB/s\u001b[0m eta \u001b[36m0:00:00\u001b[0m\n",
            "\u001b[?25hCollecting chardet==4.0.0 (from roboflow)\n",
            "  Downloading chardet-4.0.0-py2.py3-none-any.whl (178 kB)\n",
            "\u001b[2K     \u001b[90m━━━━━━━━━━━━━━━━━━━━━━━━━━━━━━━━━━━━━━━━\u001b[0m \u001b[32m178.7/178.7 kB\u001b[0m \u001b[31m11.5 MB/s\u001b[0m eta \u001b[36m0:00:00\u001b[0m\n",
            "\u001b[?25hCollecting cycler==0.10.0 (from roboflow)\n",
            "  Downloading cycler-0.10.0-py2.py3-none-any.whl (6.5 kB)\n",
            "Collecting idna==2.10 (from roboflow)\n",
            "  Downloading idna-2.10-py2.py3-none-any.whl (58 kB)\n",
            "\u001b[2K     \u001b[90m━━━━━━━━━━━━━━━━━━━━━━━━━━━━━━━━━━━━━━━━\u001b[0m \u001b[32m58.8/58.8 kB\u001b[0m \u001b[31m8.6 MB/s\u001b[0m eta \u001b[36m0:00:00\u001b[0m\n",
            "\u001b[?25hRequirement already satisfied: kiwisolver>=1.3.1 in /usr/local/lib/python3.10/dist-packages (from roboflow) (1.4.5)\n",
            "Requirement already satisfied: matplotlib in /usr/local/lib/python3.10/dist-packages (from roboflow) (3.7.1)\n",
            "Requirement already satisfied: numpy>=1.18.5 in /usr/local/lib/python3.10/dist-packages (from roboflow) (1.25.2)\n",
            "Collecting opencv-python-headless==4.8.0.74 (from roboflow)\n",
            "  Downloading opencv_python_headless-4.8.0.74-cp37-abi3-manylinux_2_17_x86_64.manylinux2014_x86_64.whl (49.1 MB)\n",
            "\u001b[2K     \u001b[90m━━━━━━━━━━━━━━━━━━━━━━━━━━━━━━━━━━━━━━━━\u001b[0m \u001b[32m49.1/49.1 MB\u001b[0m \u001b[31m11.1 MB/s\u001b[0m eta \u001b[36m0:00:00\u001b[0m\n",
            "\u001b[?25hRequirement already satisfied: Pillow>=7.1.2 in /usr/local/lib/python3.10/dist-packages (from roboflow) (9.4.0)\n",
            "Requirement already satisfied: python-dateutil in /usr/local/lib/python3.10/dist-packages (from roboflow) (2.8.2)\n",
            "Collecting python-dotenv (from roboflow)\n",
            "  Downloading python_dotenv-1.0.1-py3-none-any.whl (19 kB)\n",
            "Requirement already satisfied: requests in /usr/local/lib/python3.10/dist-packages (from roboflow) (2.31.0)\n",
            "Requirement already satisfied: six in /usr/local/lib/python3.10/dist-packages (from roboflow) (1.16.0)\n",
            "Collecting supervision (from roboflow)\n",
            "  Downloading supervision-0.18.0-py3-none-any.whl (86 kB)\n",
            "\u001b[2K     \u001b[90m━━━━━━━━━━━━━━━━━━━━━━━━━━━━━━━━━━━━━━━━\u001b[0m \u001b[32m86.7/86.7 kB\u001b[0m \u001b[31m11.3 MB/s\u001b[0m eta \u001b[36m0:00:00\u001b[0m\n",
            "\u001b[?25hRequirement already satisfied: urllib3>=1.26.6 in /usr/local/lib/python3.10/dist-packages (from roboflow) (2.0.7)\n",
            "Requirement already satisfied: tqdm>=4.41.0 in /usr/local/lib/python3.10/dist-packages (from roboflow) (4.66.2)\n",
            "Requirement already satisfied: PyYAML>=5.3.1 in /usr/local/lib/python3.10/dist-packages (from roboflow) (6.0.1)\n",
            "Collecting requests-toolbelt (from roboflow)\n",
            "  Downloading requests_toolbelt-1.0.0-py2.py3-none-any.whl (54 kB)\n",
            "\u001b[2K     \u001b[90m━━━━━━━━━━━━━━━━━━━━━━━━━━━━━━━━━━━━━━━━\u001b[0m \u001b[32m54.5/54.5 kB\u001b[0m \u001b[31m7.7 MB/s\u001b[0m eta \u001b[36m0:00:00\u001b[0m\n",
            "\u001b[?25hCollecting python-magic (from roboflow)\n",
            "  Downloading python_magic-0.4.27-py2.py3-none-any.whl (13 kB)\n",
            "Requirement already satisfied: contourpy>=1.0.1 in /usr/local/lib/python3.10/dist-packages (from matplotlib->roboflow) (1.2.0)\n",
            "Requirement already satisfied: fonttools>=4.22.0 in /usr/local/lib/python3.10/dist-packages (from matplotlib->roboflow) (4.48.1)\n",
            "Requirement already satisfied: packaging>=20.0 in /usr/local/lib/python3.10/dist-packages (from matplotlib->roboflow) (23.2)\n",
            "Requirement already satisfied: pyparsing>=2.3.1 in /usr/local/lib/python3.10/dist-packages (from matplotlib->roboflow) (3.1.1)\n",
            "Requirement already satisfied: charset-normalizer<4,>=2 in /usr/local/lib/python3.10/dist-packages (from requests->roboflow) (3.3.2)\n",
            "Requirement already satisfied: defusedxml<0.8.0,>=0.7.1 in /usr/local/lib/python3.10/dist-packages (from supervision->roboflow) (0.7.1)\n",
            "Requirement already satisfied: scipy<2.0.0,>=1.10.0 in /usr/local/lib/python3.10/dist-packages (from supervision->roboflow) (1.11.4)\n",
            "Installing collected packages: python-magic, python-dotenv, opencv-python-headless, idna, cycler, chardet, certifi, supervision, requests-toolbelt, roboflow\n",
            "  Attempting uninstall: opencv-python-headless\n",
            "    Found existing installation: opencv-python-headless 4.9.0.80\n",
            "    Uninstalling opencv-python-headless-4.9.0.80:\n",
            "      Successfully uninstalled opencv-python-headless-4.9.0.80\n",
            "  Attempting uninstall: idna\n",
            "    Found existing installation: idna 3.6\n",
            "    Uninstalling idna-3.6:\n",
            "      Successfully uninstalled idna-3.6\n",
            "  Attempting uninstall: cycler\n",
            "    Found existing installation: cycler 0.12.1\n",
            "    Uninstalling cycler-0.12.1:\n",
            "      Successfully uninstalled cycler-0.12.1\n",
            "  Attempting uninstall: chardet\n",
            "    Found existing installation: chardet 5.2.0\n",
            "    Uninstalling chardet-5.2.0:\n",
            "      Successfully uninstalled chardet-5.2.0\n",
            "  Attempting uninstall: certifi\n",
            "    Found existing installation: certifi 2024.2.2\n",
            "    Uninstalling certifi-2024.2.2:\n",
            "      Successfully uninstalled certifi-2024.2.2\n",
            "\u001b[31mERROR: pip's dependency resolver does not currently take into account all the packages that are installed. This behaviour is the source of the following dependency conflicts.\n",
            "lida 0.0.10 requires fastapi, which is not installed.\n",
            "lida 0.0.10 requires kaleido, which is not installed.\n",
            "lida 0.0.10 requires python-multipart, which is not installed.\n",
            "lida 0.0.10 requires uvicorn, which is not installed.\u001b[0m\u001b[31m\n",
            "\u001b[0mSuccessfully installed certifi-2023.7.22 chardet-4.0.0 cycler-0.10.0 idna-2.10 opencv-python-headless-4.8.0.74 python-dotenv-1.0.1 python-magic-0.4.27 requests-toolbelt-1.0.0 roboflow-1.1.19 supervision-0.18.0\n"
          ]
        },
        {
          "output_type": "display_data",
          "data": {
            "application/vnd.colab-display-data+json": {
              "pip_warning": {
                "packages": [
                  "certifi",
                  "cycler"
                ]
              }
            }
          },
          "metadata": {}
        }
      ],
      "source": [
        "!pip install ultralytics\n",
        "!pip install pip3 install torch torchvision torchaudio --index-url https://download.pytorch.org/whl/cu121\n",
        "!pip install roboflow"
      ]
    },
    {
      "cell_type": "code",
      "source": [
        "import os\n",
        "import random\n",
        "import argparse\n",
        "from collections import deque\n",
        "\n",
        "import cv2\n",
        "import tqdm\n",
        "import numpy as np\n",
        "import pandas as pd\n",
        "from PIL import Image\n",
        "from numpy import random\n",
        "import matplotlib.pyplot as plt\n",
        "from IPython.display import display, Image, clear_output\n",
        "\n",
        "import torch\n",
        "from torchvision import transforms as T\n",
        "from torch.utils.data import DataLoader, Dataset\n",
        "\n",
        "from ultralytics import YOLO # yolov8\n",
        "\n",
        "import warnings\n",
        "warnings.filterwarnings(\"ignore\")"
      ],
      "metadata": {
        "id": "2Lt80PnHQX7n"
      },
      "execution_count": null,
      "outputs": []
    },
    {
      "cell_type": "code",
      "source": [
        "devices = 'cuda' if torch.cuda.is_available() else 'cpu'\n",
        "\n",
        "print(f\"Using {devices} device\")"
      ],
      "metadata": {
        "colab": {
          "base_uri": "https://localhost:8080/"
        },
        "id": "Smt1f3BsQbEX",
        "outputId": "1d64845a-2bcc-4668-cde8-59f89c498574"
      },
      "execution_count": null,
      "outputs": [
        {
          "output_type": "stream",
          "name": "stdout",
          "text": [
            "Using cuda device\n"
          ]
        }
      ]
    },
    {
      "cell_type": "code",
      "source": [
        "!nvidia-smi"
      ],
      "metadata": {
        "colab": {
          "base_uri": "https://localhost:8080/"
        },
        "id": "hSQf_nZbQcD0",
        "outputId": "a0a7f8fb-0f59-42bc-d703-aa508c11f954"
      },
      "execution_count": null,
      "outputs": [
        {
          "output_type": "stream",
          "name": "stdout",
          "text": [
            "Tue Feb 20 06:46:04 2024       \n",
            "+---------------------------------------------------------------------------------------+\n",
            "| NVIDIA-SMI 535.104.05             Driver Version: 535.104.05   CUDA Version: 12.2     |\n",
            "|-----------------------------------------+----------------------+----------------------+\n",
            "| GPU  Name                 Persistence-M | Bus-Id        Disp.A | Volatile Uncorr. ECC |\n",
            "| Fan  Temp   Perf          Pwr:Usage/Cap |         Memory-Usage | GPU-Util  Compute M. |\n",
            "|                                         |                      |               MIG M. |\n",
            "|=========================================+======================+======================|\n",
            "|   0  Tesla T4                       Off | 00000000:00:04.0 Off |                    0 |\n",
            "| N/A   41C    P8              11W /  70W |      3MiB / 15360MiB |      0%      Default |\n",
            "|                                         |                      |                  N/A |\n",
            "+-----------------------------------------+----------------------+----------------------+\n",
            "                                                                                         \n",
            "+---------------------------------------------------------------------------------------+\n",
            "| Processes:                                                                            |\n",
            "|  GPU   GI   CI        PID   Type   Process name                            GPU Memory |\n",
            "|        ID   ID                                                             Usage      |\n",
            "|=======================================================================================|\n",
            "|  No running processes found                                                           |\n",
            "+---------------------------------------------------------------------------------------+\n"
          ]
        }
      ]
    },
    {
      "cell_type": "code",
      "source": [
        "!yolo checks"
      ],
      "metadata": {
        "colab": {
          "base_uri": "https://localhost:8080/"
        },
        "id": "B1zXCiVrQccs",
        "outputId": "b67c012a-e7f5-45d4-f033-775c80498604"
      },
      "execution_count": null,
      "outputs": [
        {
          "output_type": "stream",
          "name": "stdout",
          "text": [
            "\u001b[2K\r\u001b[2K\rUltralytics YOLOv8.1.16 🚀 Python-3.10.12 torch-2.1.0+cu121 CUDA:0 (Tesla T4, 15102MiB)\n",
            "Setup complete ✅ (2 CPUs, 12.7 GB RAM, 26.5/78.2 GB disk)\n",
            "\n",
            "OS                  Linux-6.1.58+-x86_64-with-glibc2.35\n",
            "Environment         Colab\n",
            "Python              3.10.12\n",
            "Install             pip\n",
            "RAM                 12.67 GB\n",
            "CPU                 Intel Xeon 2.00GHz\n",
            "CUDA                12.1\n",
            "\n",
            "matplotlib          ✅ 3.7.1>=3.3.0\n",
            "opencv-python       ✅ 4.8.0.76>=4.6.0\n",
            "pillow              ✅ 9.4.0>=7.1.2\n",
            "pyyaml              ✅ 6.0.1>=5.3.1\n",
            "requests            ✅ 2.31.0>=2.23.0\n",
            "scipy               ✅ 1.11.4>=1.4.1\n",
            "torch               ✅ 2.1.0+cu121>=1.8.0\n",
            "torchvision         ✅ 0.16.0+cu121>=0.9.0\n",
            "tqdm                ✅ 4.66.2>=4.64.0\n",
            "psutil              ✅ 5.9.5\n",
            "py-cpuinfo          ✅ 9.0.0\n",
            "thop                ✅ 0.1.1-2209072238>=0.1.1\n",
            "pandas              ✅ 1.5.3>=1.1.4\n",
            "seaborn             ✅ 0.13.1>=0.11.0\n"
          ]
        }
      ]
    },
    {
      "cell_type": "code",
      "source": [
        "from roboflow import Roboflow\n",
        "\n",
        "rf = Roboflow(api_key=\"HXl0GPgbhL73iBM3pgok\")\n",
        "\n",
        "# Link: https://universe.roboflow.com/firedetection-cqgz2/firedetectyolov7/dataset/2\n",
        "fire_project = rf.workspace(\"firedetection-cqgz2\").project(\"firedetectyolov7\")\n",
        "fire_dataset = fire_project.version(2).download(\"yolov8\")"
      ],
      "metadata": {
        "colab": {
          "base_uri": "https://localhost:8080/"
        },
        "id": "gNJGkYn4Qewq",
        "outputId": "3be444b3-fe15-4252-c7e9-819489e915b4"
      },
      "execution_count": null,
      "outputs": [
        {
          "output_type": "stream",
          "name": "stdout",
          "text": [
            "loading Roboflow workspace...\n",
            "loading Roboflow project...\n",
            "Dependency ultralytics==8.0.196 is required but found version=8.1.16, to fix: `pip install ultralytics==8.0.196`\n"
          ]
        },
        {
          "output_type": "stream",
          "name": "stderr",
          "text": [
            "Downloading Dataset Version Zip in firedetectyolov7-2 to yolov8:: 100%|██████████| 353826/353826 [00:14<00:00, 25001.16it/s]"
          ]
        },
        {
          "output_type": "stream",
          "name": "stdout",
          "text": [
            "\n"
          ]
        },
        {
          "output_type": "stream",
          "name": "stderr",
          "text": [
            "\n",
            "Extracting Dataset Version Zip to firedetectyolov7-2 in yolov8:: 100%|██████████| 15378/15378 [00:02<00:00, 6151.10it/s]\n"
          ]
        }
      ]
    },
    {
      "cell_type": "code",
      "source": [
        "# Train the model on fire dataset\n",
        "model = YOLO('yolov8m.pt')"
      ],
      "metadata": {
        "colab": {
          "base_uri": "https://localhost:8080/"
        },
        "id": "MMs-OPFEQgc7",
        "outputId": "a3506b45-9385-4edc-8987-f5178ccd1208"
      },
      "execution_count": null,
      "outputs": [
        {
          "output_type": "stream",
          "name": "stdout",
          "text": [
            "Downloading https://github.com/ultralytics/assets/releases/download/v8.1.0/yolov8m.pt to 'yolov8m.pt'...\n"
          ]
        },
        {
          "output_type": "stream",
          "name": "stderr",
          "text": [
            "100%|██████████| 49.7M/49.7M [00:00<00:00, 270MB/s]\n"
          ]
        }
      ]
    },
    {
      "cell_type": "code",
      "source": [
        "model.train(task='detect', imgsz=640, data=r'/content/firedetectyolov7-2/data.yaml', epochs=30, batch=16, name='data1', patience=10, plots=True, val=True, verbose=True)"
      ],
      "metadata": {
        "colab": {
          "base_uri": "https://localhost:8080/"
        },
        "id": "M4o-VNfqQgus",
        "outputId": "1ae78809-f36f-4430-c4bc-0cd4e59af712"
      },
      "execution_count": null,
      "outputs": [
        {
          "metadata": {
            "tags": null
          },
          "name": "stdout",
          "output_type": "stream",
          "text": [
            "Ultralytics YOLOv8.1.16 🚀 Python-3.10.12 torch-2.1.0+cu121 CUDA:0 (Tesla T4, 15102MiB)\n",
            "\u001b[34m\u001b[1mengine/trainer: \u001b[0mtask=detect, mode=train, model=yolov8m.pt, data=/content/firedetectyolov7-2/data.yaml, epochs=30, time=None, patience=10, batch=16, imgsz=640, save=True, save_period=-1, cache=False, device=None, workers=8, project=None, name=data13, exist_ok=False, pretrained=True, optimizer=auto, verbose=True, seed=0, deterministic=True, single_cls=False, rect=False, cos_lr=False, close_mosaic=10, resume=False, amp=True, fraction=1.0, profile=False, freeze=None, multi_scale=False, overlap_mask=True, mask_ratio=4, dropout=0.0, val=True, split=val, save_json=False, save_hybrid=False, conf=None, iou=0.7, max_det=300, half=False, dnn=False, plots=True, source=None, vid_stride=1, stream_buffer=False, visualize=False, augment=False, agnostic_nms=False, classes=None, retina_masks=False, embed=None, show=False, save_frames=False, save_txt=False, save_conf=False, save_crop=False, show_labels=True, show_conf=True, show_boxes=True, line_width=None, format=torchscript, keras=False, optimize=False, int8=False, dynamic=False, simplify=False, opset=None, workspace=4, nms=False, lr0=0.01, lrf=0.01, momentum=0.937, weight_decay=0.0005, warmup_epochs=3.0, warmup_momentum=0.8, warmup_bias_lr=0.1, box=7.5, cls=0.5, dfl=1.5, pose=12.0, kobj=1.0, label_smoothing=0.0, nbs=64, hsv_h=0.015, hsv_s=0.7, hsv_v=0.4, degrees=0.0, translate=0.1, scale=0.5, shear=0.0, perspective=0.0, flipud=0.0, fliplr=0.5, mosaic=1.0, mixup=0.0, copy_paste=0.0, auto_augment=randaugment, erasing=0.4, crop_fraction=1.0, cfg=None, tracker=botsort.yaml, save_dir=runs/detect/data13\n",
            "Downloading https://ultralytics.com/assets/Arial.ttf to '/root/.config/Ultralytics/Arial.ttf'...\n"
          ]
        },
        {
          "metadata": {
            "tags": null
          },
          "name": "stderr",
          "output_type": "stream",
          "text": [
            "100%|██████████| 755k/755k [00:00<00:00, 36.9MB/s]\n"
          ]
        },
        {
          "metadata": {
            "tags": null
          },
          "name": "stdout",
          "output_type": "stream",
          "text": [
            "Overriding model.yaml nc=80 with nc=1\n",
            "\n",
            "                   from  n    params  module                                       arguments                     \n",
            "  0                  -1  1      1392  ultralytics.nn.modules.conv.Conv             [3, 48, 3, 2]                 \n",
            "  1                  -1  1     41664  ultralytics.nn.modules.conv.Conv             [48, 96, 3, 2]                \n",
            "  2                  -1  2    111360  ultralytics.nn.modules.block.C2f             [96, 96, 2, True]             \n",
            "  3                  -1  1    166272  ultralytics.nn.modules.conv.Conv             [96, 192, 3, 2]               \n",
            "  4                  -1  4    813312  ultralytics.nn.modules.block.C2f             [192, 192, 4, True]           \n",
            "  5                  -1  1    664320  ultralytics.nn.modules.conv.Conv             [192, 384, 3, 2]              \n",
            "  6                  -1  4   3248640  ultralytics.nn.modules.block.C2f             [384, 384, 4, True]           \n",
            "  7                  -1  1   1991808  ultralytics.nn.modules.conv.Conv             [384, 576, 3, 2]              \n",
            "  8                  -1  2   3985920  ultralytics.nn.modules.block.C2f             [576, 576, 2, True]           \n",
            "  9                  -1  1    831168  ultralytics.nn.modules.block.SPPF            [576, 576, 5]                 \n",
            " 10                  -1  1         0  torch.nn.modules.upsampling.Upsample         [None, 2, 'nearest']          \n",
            " 11             [-1, 6]  1         0  ultralytics.nn.modules.conv.Concat           [1]                           \n",
            " 12                  -1  2   1993728  ultralytics.nn.modules.block.C2f             [960, 384, 2]                 \n",
            " 13                  -1  1         0  torch.nn.modules.upsampling.Upsample         [None, 2, 'nearest']          \n",
            " 14             [-1, 4]  1         0  ultralytics.nn.modules.conv.Concat           [1]                           \n",
            " 15                  -1  2    517632  ultralytics.nn.modules.block.C2f             [576, 192, 2]                 \n",
            " 16                  -1  1    332160  ultralytics.nn.modules.conv.Conv             [192, 192, 3, 2]              \n",
            " 17            [-1, 12]  1         0  ultralytics.nn.modules.conv.Concat           [1]                           \n",
            " 18                  -1  2   1846272  ultralytics.nn.modules.block.C2f             [576, 384, 2]                 \n",
            " 19                  -1  1   1327872  ultralytics.nn.modules.conv.Conv             [384, 384, 3, 2]              \n",
            " 20             [-1, 9]  1         0  ultralytics.nn.modules.conv.Concat           [1]                           \n",
            " 21                  -1  2   4207104  ultralytics.nn.modules.block.C2f             [960, 576, 2]                 \n",
            " 22        [15, 18, 21]  1   3776275  ultralytics.nn.modules.head.Detect           [1, [192, 384, 576]]          \n",
            "Model summary: 295 layers, 25856899 parameters, 25856883 gradients, 79.1 GFLOPs\n",
            "\n",
            "Transferred 469/475 items from pretrained weights\n",
            "\u001b[34m\u001b[1mTensorBoard: \u001b[0mStart with 'tensorboard --logdir runs/detect/data13', view at http://localhost:6006/\n",
            "Freezing layer 'model.22.dfl.conv.weight'\n",
            "\u001b[34m\u001b[1mAMP: \u001b[0mrunning Automatic Mixed Precision (AMP) checks with YOLOv8n...\n",
            "Downloading https://github.com/ultralytics/assets/releases/download/v8.1.0/yolov8n.pt to 'yolov8n.pt'...\n"
          ]
        },
        {
          "metadata": {
            "tags": null
          },
          "name": "stderr",
          "output_type": "stream",
          "text": [
            "100%|██████████| 6.23M/6.23M [00:00<00:00, 141MB/s]\n"
          ]
        },
        {
          "metadata": {
            "tags": null
          },
          "name": "stdout",
          "output_type": "stream",
          "text": [
            "\u001b[34m\u001b[1mAMP: \u001b[0mchecks passed ✅\n"
          ]
        },
        {
          "metadata": {
            "tags": null
          },
          "name": "stderr",
          "output_type": "stream",
          "text": [
            "\u001b[34m\u001b[1mtrain: \u001b[0mScanning /content/firedetectyolov7-2/train/labels... 6008 images, 0 backgrounds, 0 corrupt: 100%|██████████| 6008/6008 [00:04<00:00, 1326.69it/s]\n"
          ]
        },
        {
          "metadata": {
            "tags": null
          },
          "name": "stdout",
          "output_type": "stream",
          "text": [
            "\u001b[34m\u001b[1mtrain: \u001b[0mNew cache created: /content/firedetectyolov7-2/train/labels.cache\n",
            "\u001b[34m\u001b[1malbumentations: \u001b[0mBlur(p=0.01, blur_limit=(3, 7)), MedianBlur(p=0.01, blur_limit=(3, 7)), ToGray(p=0.01), CLAHE(p=0.01, clip_limit=(1, 4.0), tile_grid_size=(8, 8))\n"
          ]
        },
        {
          "metadata": {
            "tags": null
          },
          "name": "stderr",
          "output_type": "stream",
          "text": [
            "\u001b[34m\u001b[1mval: \u001b[0mScanning /content/firedetectyolov7-2/valid/labels... 1212 images, 0 backgrounds, 0 corrupt: 100%|██████████| 1212/1212 [00:01<00:00, 814.30it/s]"
          ]
        },
        {
          "metadata": {
            "tags": null
          },
          "name": "stdout",
          "output_type": "stream",
          "text": [
            "\u001b[34m\u001b[1mval: \u001b[0mNew cache created: /content/firedetectyolov7-2/valid/labels.cache\n"
          ]
        },
        {
          "metadata": {
            "tags": null
          },
          "name": "stderr",
          "output_type": "stream",
          "text": [
            "\n"
          ]
        },
        {
          "metadata": {
            "tags": null
          },
          "name": "stdout",
          "output_type": "stream",
          "text": [
            "Plotting labels to runs/detect/data13/labels.jpg... \n",
            "\u001b[34m\u001b[1moptimizer:\u001b[0m 'optimizer=auto' found, ignoring 'lr0=0.01' and 'momentum=0.937' and determining best 'optimizer', 'lr0' and 'momentum' automatically... \n",
            "\u001b[34m\u001b[1moptimizer:\u001b[0m AdamW(lr=0.002, momentum=0.9) with parameter groups 77 weight(decay=0.0), 84 weight(decay=0.0005), 83 bias(decay=0.0)\n",
            "\u001b[34m\u001b[1mTensorBoard: \u001b[0mmodel graph visualization added ✅\n",
            "Image sizes 640 train, 640 val\n",
            "Using 2 dataloader workers\n",
            "Logging results to \u001b[1mruns/detect/data13\u001b[0m\n",
            "Starting training for 30 epochs...\n",
            "\n",
            "      Epoch    GPU_mem   box_loss   cls_loss   dfl_loss  Instances       Size\n"
          ]
        },
        {
          "metadata": {
            "tags": null
          },
          "name": "stderr",
          "output_type": "stream",
          "text": [
            "       1/30      7.11G      1.937      2.268      1.888         28        640: 100%|██████████| 376/376 [03:21<00:00,  1.87it/s]\n",
            "                 Class     Images  Instances      Box(P          R      mAP50  mAP50-95): 100%|██████████| 38/38 [00:20<00:00,  1.89it/s]"
          ]
        },
        {
          "metadata": {
            "tags": null
          },
          "name": "stdout",
          "output_type": "stream",
          "text": [
            "                   all       1212       2641     0.0677      0.129     0.0376     0.0121\n"
          ]
        },
        {
          "metadata": {
            "tags": null
          },
          "name": "stderr",
          "output_type": "stream",
          "text": [
            "\n"
          ]
        },
        {
          "metadata": {
            "tags": null
          },
          "name": "stdout",
          "output_type": "stream",
          "text": [
            "\n",
            "      Epoch    GPU_mem   box_loss   cls_loss   dfl_loss  Instances       Size\n"
          ]
        },
        {
          "metadata": {
            "tags": null
          },
          "name": "stderr",
          "output_type": "stream",
          "text": [
            "       2/30      7.25G      1.995       2.24       1.93         26        640: 100%|██████████| 376/376 [03:18<00:00,  1.90it/s]\n",
            "                 Class     Images  Instances      Box(P          R      mAP50  mAP50-95): 100%|██████████| 38/38 [00:18<00:00,  2.00it/s]\n"
          ]
        },
        {
          "metadata": {
            "tags": null
          },
          "name": "stdout",
          "output_type": "stream",
          "text": [
            "                   all       1212       2641      0.145      0.114     0.0697     0.0242\n",
            "\n",
            "      Epoch    GPU_mem   box_loss   cls_loss   dfl_loss  Instances       Size\n"
          ]
        },
        {
          "metadata": {
            "tags": null
          },
          "name": "stderr",
          "output_type": "stream",
          "text": [
            "       3/30      7.27G      1.953      2.146      1.886         32        640: 100%|██████████| 376/376 [03:16<00:00,  1.92it/s]\n",
            "                 Class     Images  Instances      Box(P          R      mAP50  mAP50-95): 100%|██████████| 38/38 [00:18<00:00,  2.09it/s]"
          ]
        },
        {
          "metadata": {
            "tags": null
          },
          "name": "stdout",
          "output_type": "stream",
          "text": [
            "                   all       1212       2641      0.362       0.34       0.25      0.089\n"
          ]
        },
        {
          "metadata": {
            "tags": null
          },
          "name": "stderr",
          "output_type": "stream",
          "text": [
            "\n"
          ]
        },
        {
          "metadata": {
            "tags": null
          },
          "name": "stdout",
          "output_type": "stream",
          "text": [
            "\n",
            "      Epoch    GPU_mem   box_loss   cls_loss   dfl_loss  Instances       Size\n"
          ]
        },
        {
          "metadata": {
            "tags": null
          },
          "name": "stderr",
          "output_type": "stream",
          "text": [
            "       4/30      7.28G      1.898      2.064      1.825         39        640: 100%|██████████| 376/376 [03:15<00:00,  1.92it/s]\n",
            "                 Class     Images  Instances      Box(P          R      mAP50  mAP50-95): 100%|██████████| 38/38 [00:18<00:00,  2.08it/s]"
          ]
        },
        {
          "metadata": {
            "tags": null
          },
          "name": "stdout",
          "output_type": "stream",
          "text": [
            "                   all       1212       2641      0.371      0.369      0.262      0.107\n"
          ]
        },
        {
          "metadata": {
            "tags": null
          },
          "name": "stderr",
          "output_type": "stream",
          "text": [
            "\n"
          ]
        },
        {
          "metadata": {
            "tags": null
          },
          "name": "stdout",
          "output_type": "stream",
          "text": [
            "\n",
            "      Epoch    GPU_mem   box_loss   cls_loss   dfl_loss  Instances       Size\n"
          ]
        },
        {
          "metadata": {
            "tags": null
          },
          "name": "stderr",
          "output_type": "stream",
          "text": [
            "       5/30      7.29G       1.84      1.971      1.778         18        640: 100%|██████████| 376/376 [03:15<00:00,  1.92it/s]\n",
            "                 Class     Images  Instances      Box(P          R      mAP50  mAP50-95): 100%|██████████| 38/38 [00:18<00:00,  2.08it/s]"
          ]
        },
        {
          "metadata": {
            "tags": null
          },
          "name": "stdout",
          "output_type": "stream",
          "text": [
            "                   all       1212       2641      0.389      0.364      0.327      0.143\n"
          ]
        },
        {
          "metadata": {
            "tags": null
          },
          "name": "stderr",
          "output_type": "stream",
          "text": [
            "\n"
          ]
        },
        {
          "metadata": {
            "tags": null
          },
          "name": "stdout",
          "output_type": "stream",
          "text": [
            "\n",
            "      Epoch    GPU_mem   box_loss   cls_loss   dfl_loss  Instances       Size\n"
          ]
        },
        {
          "metadata": {
            "tags": null
          },
          "name": "stderr",
          "output_type": "stream",
          "text": [
            "       6/30      7.32G      1.819      1.897      1.755         30        640: 100%|██████████| 376/376 [03:15<00:00,  1.92it/s]\n",
            "                 Class     Images  Instances      Box(P          R      mAP50  mAP50-95): 100%|██████████| 38/38 [00:18<00:00,  2.02it/s]"
          ]
        },
        {
          "metadata": {
            "tags": null
          },
          "name": "stdout",
          "output_type": "stream",
          "text": [
            "                   all       1212       2641      0.473      0.395      0.387      0.167\n"
          ]
        },
        {
          "metadata": {
            "tags": null
          },
          "name": "stderr",
          "output_type": "stream",
          "text": [
            "\n"
          ]
        },
        {
          "metadata": {
            "tags": null
          },
          "name": "stdout",
          "output_type": "stream",
          "text": [
            "\n",
            "      Epoch    GPU_mem   box_loss   cls_loss   dfl_loss  Instances       Size\n"
          ]
        },
        {
          "metadata": {
            "tags": null
          },
          "name": "stderr",
          "output_type": "stream",
          "text": [
            "       7/30      7.29G      1.789      1.847       1.74         16        640: 100%|██████████| 376/376 [03:15<00:00,  1.92it/s]\n",
            "                 Class     Images  Instances      Box(P          R      mAP50  mAP50-95): 100%|██████████| 38/38 [00:18<00:00,  2.10it/s]"
          ]
        },
        {
          "metadata": {
            "tags": null
          },
          "name": "stdout",
          "output_type": "stream",
          "text": [
            "                   all       1212       2641      0.472      0.406      0.401      0.183\n"
          ]
        },
        {
          "metadata": {
            "tags": null
          },
          "name": "stderr",
          "output_type": "stream",
          "text": [
            "\n"
          ]
        },
        {
          "metadata": {
            "tags": null
          },
          "name": "stdout",
          "output_type": "stream",
          "text": [
            "\n",
            "      Epoch    GPU_mem   box_loss   cls_loss   dfl_loss  Instances       Size\n"
          ]
        },
        {
          "metadata": {
            "tags": null
          },
          "name": "stderr",
          "output_type": "stream",
          "text": [
            "       8/30      7.29G      1.758      1.814      1.712         25        640: 100%|██████████| 376/376 [03:15<00:00,  1.92it/s]\n",
            "                 Class     Images  Instances      Box(P          R      mAP50  mAP50-95): 100%|██████████| 38/38 [00:19<00:00,  1.99it/s]"
          ]
        },
        {
          "metadata": {
            "tags": null
          },
          "name": "stdout",
          "output_type": "stream",
          "text": [
            "                   all       1212       2641      0.491      0.409      0.405      0.174\n"
          ]
        },
        {
          "metadata": {
            "tags": null
          },
          "name": "stderr",
          "output_type": "stream",
          "text": [
            "\n"
          ]
        },
        {
          "metadata": {
            "tags": null
          },
          "name": "stdout",
          "output_type": "stream",
          "text": [
            "\n",
            "      Epoch    GPU_mem   box_loss   cls_loss   dfl_loss  Instances       Size\n"
          ]
        },
        {
          "metadata": {
            "tags": null
          },
          "name": "stderr",
          "output_type": "stream",
          "text": [
            "       9/30      7.29G      1.729      1.755      1.689         15        640: 100%|██████████| 376/376 [03:15<00:00,  1.92it/s]\n",
            "                 Class     Images  Instances      Box(P          R      mAP50  mAP50-95): 100%|██████████| 38/38 [00:18<00:00,  2.01it/s]\n"
          ]
        },
        {
          "metadata": {
            "tags": null
          },
          "name": "stdout",
          "output_type": "stream",
          "text": [
            "                   all       1212       2641      0.461      0.428      0.419      0.199\n",
            "\n",
            "      Epoch    GPU_mem   box_loss   cls_loss   dfl_loss  Instances       Size\n"
          ]
        },
        {
          "metadata": {
            "tags": null
          },
          "name": "stderr",
          "output_type": "stream",
          "text": [
            "      10/30      7.29G      1.707      1.711      1.675         25        640: 100%|██████████| 376/376 [03:15<00:00,  1.92it/s]\n",
            "                 Class     Images  Instances      Box(P          R      mAP50  mAP50-95): 100%|██████████| 38/38 [00:18<00:00,  2.02it/s]"
          ]
        },
        {
          "metadata": {
            "tags": null
          },
          "name": "stdout",
          "output_type": "stream",
          "text": [
            "                   all       1212       2641      0.518      0.415      0.446      0.212\n"
          ]
        },
        {
          "metadata": {
            "tags": null
          },
          "name": "stderr",
          "output_type": "stream",
          "text": [
            "\n"
          ]
        },
        {
          "metadata": {
            "tags": null
          },
          "name": "stdout",
          "output_type": "stream",
          "text": [
            "\n",
            "      Epoch    GPU_mem   box_loss   cls_loss   dfl_loss  Instances       Size\n"
          ]
        },
        {
          "metadata": {
            "tags": null
          },
          "name": "stderr",
          "output_type": "stream",
          "text": [
            "      11/30      7.28G      1.695      1.683      1.664         39        640: 100%|██████████| 376/376 [03:16<00:00,  1.92it/s]\n",
            "                 Class     Images  Instances      Box(P          R      mAP50  mAP50-95): 100%|██████████| 38/38 [00:18<00:00,  2.08it/s]"
          ]
        },
        {
          "metadata": {
            "tags": null
          },
          "name": "stdout",
          "output_type": "stream",
          "text": [
            "                   all       1212       2641      0.518      0.413      0.445      0.219\n"
          ]
        },
        {
          "metadata": {
            "tags": null
          },
          "name": "stderr",
          "output_type": "stream",
          "text": [
            "\n"
          ]
        },
        {
          "metadata": {
            "tags": null
          },
          "name": "stdout",
          "output_type": "stream",
          "text": [
            "\n",
            "      Epoch    GPU_mem   box_loss   cls_loss   dfl_loss  Instances       Size\n"
          ]
        },
        {
          "metadata": {
            "tags": null
          },
          "name": "stderr",
          "output_type": "stream",
          "text": [
            "      12/30      7.28G      1.677      1.644      1.652         39        640: 100%|██████████| 376/376 [03:16<00:00,  1.92it/s]\n",
            "                 Class     Images  Instances      Box(P          R      mAP50  mAP50-95): 100%|██████████| 38/38 [00:18<00:00,  2.01it/s]"
          ]
        },
        {
          "metadata": {
            "tags": null
          },
          "name": "stdout",
          "output_type": "stream",
          "text": [
            "                   all       1212       2641      0.514      0.416       0.45      0.207\n"
          ]
        },
        {
          "metadata": {
            "tags": null
          },
          "name": "stderr",
          "output_type": "stream",
          "text": [
            "\n"
          ]
        },
        {
          "metadata": {
            "tags": null
          },
          "name": "stdout",
          "output_type": "stream",
          "text": [
            "\n",
            "      Epoch    GPU_mem   box_loss   cls_loss   dfl_loss  Instances       Size\n"
          ]
        },
        {
          "metadata": {
            "tags": null
          },
          "name": "stderr",
          "output_type": "stream",
          "text": [
            "      13/30       7.3G      1.666       1.59      1.643         16        640: 100%|██████████| 376/376 [03:15<00:00,  1.93it/s]\n",
            "                 Class     Images  Instances      Box(P          R      mAP50  mAP50-95): 100%|██████████| 38/38 [00:18<00:00,  2.03it/s]"
          ]
        },
        {
          "metadata": {
            "tags": null
          },
          "name": "stdout",
          "output_type": "stream",
          "text": [
            "                   all       1212       2641      0.546      0.449      0.486      0.235\n"
          ]
        },
        {
          "metadata": {
            "tags": null
          },
          "name": "stderr",
          "output_type": "stream",
          "text": [
            "\n"
          ]
        },
        {
          "metadata": {
            "tags": null
          },
          "name": "stdout",
          "output_type": "stream",
          "text": [
            "\n",
            "      Epoch    GPU_mem   box_loss   cls_loss   dfl_loss  Instances       Size\n"
          ]
        },
        {
          "metadata": {
            "tags": null
          },
          "name": "stderr",
          "output_type": "stream",
          "text": [
            "      14/30      7.29G      1.644      1.563       1.62         25        640: 100%|██████████| 376/376 [03:15<00:00,  1.92it/s]\n",
            "                 Class     Images  Instances      Box(P          R      mAP50  mAP50-95): 100%|██████████| 38/38 [00:18<00:00,  2.10it/s]"
          ]
        },
        {
          "metadata": {
            "tags": null
          },
          "name": "stdout",
          "output_type": "stream",
          "text": [
            "                   all       1212       2641       0.55      0.454      0.489      0.239\n"
          ]
        },
        {
          "metadata": {
            "tags": null
          },
          "name": "stderr",
          "output_type": "stream",
          "text": [
            "\n"
          ]
        },
        {
          "metadata": {
            "tags": null
          },
          "name": "stdout",
          "output_type": "stream",
          "text": [
            "\n",
            "      Epoch    GPU_mem   box_loss   cls_loss   dfl_loss  Instances       Size\n"
          ]
        },
        {
          "metadata": {
            "tags": null
          },
          "name": "stderr",
          "output_type": "stream",
          "text": [
            "      15/30       7.3G       1.64      1.566      1.626         36        640: 100%|██████████| 376/376 [03:15<00:00,  1.92it/s]\n",
            "                 Class     Images  Instances      Box(P          R      mAP50  mAP50-95): 100%|██████████| 38/38 [00:18<00:00,  2.03it/s]"
          ]
        },
        {
          "metadata": {
            "tags": null
          },
          "name": "stdout",
          "output_type": "stream",
          "text": [
            "                   all       1212       2641       0.53       0.46      0.502      0.259\n"
          ]
        },
        {
          "metadata": {
            "tags": null
          },
          "name": "stderr",
          "output_type": "stream",
          "text": [
            "\n"
          ]
        },
        {
          "metadata": {
            "tags": null
          },
          "name": "stdout",
          "output_type": "stream",
          "text": [
            "\n",
            "      Epoch    GPU_mem   box_loss   cls_loss   dfl_loss  Instances       Size\n"
          ]
        },
        {
          "metadata": {
            "tags": null
          },
          "name": "stderr",
          "output_type": "stream",
          "text": [
            "      16/30      7.32G      1.618      1.525      1.614         27        640: 100%|██████████| 376/376 [03:15<00:00,  1.92it/s]\n",
            "                 Class     Images  Instances      Box(P          R      mAP50  mAP50-95): 100%|██████████| 38/38 [00:18<00:00,  2.08it/s]"
          ]
        },
        {
          "metadata": {
            "tags": null
          },
          "name": "stdout",
          "output_type": "stream",
          "text": [
            "                   all       1212       2641      0.546      0.485      0.496      0.234\n"
          ]
        },
        {
          "metadata": {
            "tags": null
          },
          "name": "stderr",
          "output_type": "stream",
          "text": [
            "\n"
          ]
        },
        {
          "metadata": {
            "tags": null
          },
          "name": "stdout",
          "output_type": "stream",
          "text": [
            "\n",
            "      Epoch    GPU_mem   box_loss   cls_loss   dfl_loss  Instances       Size\n"
          ]
        },
        {
          "metadata": {
            "tags": null
          },
          "name": "stderr",
          "output_type": "stream",
          "text": [
            "      17/30      7.28G        1.6      1.499      1.604         14        640: 100%|██████████| 376/376 [03:15<00:00,  1.92it/s]\n",
            "                 Class     Images  Instances      Box(P          R      mAP50  mAP50-95): 100%|██████████| 38/38 [00:18<00:00,  2.07it/s]"
          ]
        },
        {
          "metadata": {
            "tags": null
          },
          "name": "stdout",
          "output_type": "stream",
          "text": [
            "                   all       1212       2641      0.551      0.493      0.521      0.262\n"
          ]
        },
        {
          "metadata": {
            "tags": null
          },
          "name": "stderr",
          "output_type": "stream",
          "text": [
            "\n"
          ]
        },
        {
          "metadata": {
            "tags": null
          },
          "name": "stdout",
          "output_type": "stream",
          "text": [
            "\n",
            "      Epoch    GPU_mem   box_loss   cls_loss   dfl_loss  Instances       Size\n"
          ]
        },
        {
          "metadata": {
            "tags": null
          },
          "name": "stderr",
          "output_type": "stream",
          "text": [
            "      18/30      7.29G      1.584      1.488      1.592         17        640: 100%|██████████| 376/376 [03:15<00:00,  1.92it/s]\n",
            "                 Class     Images  Instances      Box(P          R      mAP50  mAP50-95): 100%|██████████| 38/38 [00:18<00:00,  2.04it/s]"
          ]
        },
        {
          "metadata": {
            "tags": null
          },
          "name": "stdout",
          "output_type": "stream",
          "text": [
            "                   all       1212       2641      0.586      0.466      0.526       0.27\n"
          ]
        },
        {
          "metadata": {
            "tags": null
          },
          "name": "stderr",
          "output_type": "stream",
          "text": [
            "\n"
          ]
        },
        {
          "metadata": {
            "tags": null
          },
          "name": "stdout",
          "output_type": "stream",
          "text": [
            "\n",
            "      Epoch    GPU_mem   box_loss   cls_loss   dfl_loss  Instances       Size\n"
          ]
        },
        {
          "metadata": {
            "tags": null
          },
          "name": "stderr",
          "output_type": "stream",
          "text": [
            "      19/30      7.27G      1.568      1.425      1.569         24        640: 100%|██████████| 376/376 [03:15<00:00,  1.92it/s]\n",
            "                 Class     Images  Instances      Box(P          R      mAP50  mAP50-95): 100%|██████████| 38/38 [00:18<00:00,  2.05it/s]"
          ]
        },
        {
          "metadata": {
            "tags": null
          },
          "name": "stdout",
          "output_type": "stream",
          "text": [
            "                   all       1212       2641      0.562      0.504      0.537       0.27\n"
          ]
        },
        {
          "metadata": {
            "tags": null
          },
          "name": "stderr",
          "output_type": "stream",
          "text": [
            "\n"
          ]
        },
        {
          "metadata": {
            "tags": null
          },
          "name": "stdout",
          "output_type": "stream",
          "text": [
            "\n",
            "      Epoch    GPU_mem   box_loss   cls_loss   dfl_loss  Instances       Size\n"
          ]
        },
        {
          "metadata": {
            "tags": null
          },
          "name": "stderr",
          "output_type": "stream",
          "text": [
            "      20/30      7.33G      1.565      1.424       1.57         28        640: 100%|██████████| 376/376 [03:15<00:00,  1.92it/s]\n",
            "                 Class     Images  Instances      Box(P          R      mAP50  mAP50-95): 100%|██████████| 38/38 [00:18<00:00,  2.03it/s]"
          ]
        },
        {
          "metadata": {
            "tags": null
          },
          "name": "stdout",
          "output_type": "stream",
          "text": [
            "                   all       1212       2641      0.585      0.502      0.557      0.288\n"
          ]
        },
        {
          "metadata": {
            "tags": null
          },
          "name": "stderr",
          "output_type": "stream",
          "text": [
            "\n"
          ]
        },
        {
          "metadata": {
            "tags": null
          },
          "name": "stdout",
          "output_type": "stream",
          "text": [
            "Closing dataloader mosaic\n",
            "\u001b[34m\u001b[1malbumentations: \u001b[0mBlur(p=0.01, blur_limit=(3, 7)), MedianBlur(p=0.01, blur_limit=(3, 7)), ToGray(p=0.01), CLAHE(p=0.01, clip_limit=(1, 4.0), tile_grid_size=(8, 8))\n",
            "\n",
            "      Epoch    GPU_mem   box_loss   cls_loss   dfl_loss  Instances       Size\n"
          ]
        },
        {
          "metadata": {
            "tags": null
          },
          "name": "stderr",
          "output_type": "stream",
          "text": [
            "      21/30      7.28G      1.585      1.365      1.606         11        640: 100%|██████████| 376/376 [03:18<00:00,  1.90it/s]\n",
            "                 Class     Images  Instances      Box(P          R      mAP50  mAP50-95): 100%|██████████| 38/38 [00:18<00:00,  2.08it/s]"
          ]
        },
        {
          "metadata": {
            "tags": null
          },
          "name": "stdout",
          "output_type": "stream",
          "text": [
            "                   all       1212       2641      0.573      0.477      0.526      0.274\n"
          ]
        },
        {
          "metadata": {
            "tags": null
          },
          "name": "stderr",
          "output_type": "stream",
          "text": [
            "\n"
          ]
        },
        {
          "metadata": {
            "tags": null
          },
          "name": "stdout",
          "output_type": "stream",
          "text": [
            "\n",
            "      Epoch    GPU_mem   box_loss   cls_loss   dfl_loss  Instances       Size\n"
          ]
        },
        {
          "metadata": {
            "tags": null
          },
          "name": "stderr",
          "output_type": "stream",
          "text": [
            "      22/30      7.28G      1.558       1.33      1.593         11        640: 100%|██████████| 376/376 [03:14<00:00,  1.93it/s]\n",
            "                 Class     Images  Instances      Box(P          R      mAP50  mAP50-95): 100%|██████████| 38/38 [00:18<00:00,  2.03it/s]"
          ]
        },
        {
          "metadata": {
            "tags": null
          },
          "name": "stdout",
          "output_type": "stream",
          "text": [
            "                   all       1212       2641      0.543      0.504      0.533      0.274\n"
          ]
        },
        {
          "metadata": {
            "tags": null
          },
          "name": "stderr",
          "output_type": "stream",
          "text": [
            "\n"
          ]
        },
        {
          "metadata": {
            "tags": null
          },
          "name": "stdout",
          "output_type": "stream",
          "text": [
            "\n",
            "      Epoch    GPU_mem   box_loss   cls_loss   dfl_loss  Instances       Size\n"
          ]
        },
        {
          "metadata": {
            "tags": null
          },
          "name": "stderr",
          "output_type": "stream",
          "text": [
            "      23/30      7.28G      1.546      1.293      1.583         14        640: 100%|██████████| 376/376 [03:14<00:00,  1.93it/s]\n",
            "                 Class     Images  Instances      Box(P          R      mAP50  mAP50-95): 100%|██████████| 38/38 [00:18<00:00,  2.02it/s]"
          ]
        },
        {
          "metadata": {
            "tags": null
          },
          "name": "stdout",
          "output_type": "stream",
          "text": [
            "                   all       1212       2641      0.562      0.507      0.546      0.283\n"
          ]
        },
        {
          "metadata": {
            "tags": null
          },
          "name": "stderr",
          "output_type": "stream",
          "text": [
            "\n"
          ]
        },
        {
          "metadata": {
            "tags": null
          },
          "name": "stdout",
          "output_type": "stream",
          "text": [
            "\n",
            "      Epoch    GPU_mem   box_loss   cls_loss   dfl_loss  Instances       Size\n"
          ]
        },
        {
          "metadata": {
            "tags": null
          },
          "name": "stderr",
          "output_type": "stream",
          "text": [
            "      24/30      7.28G       1.52      1.264      1.559          7        640: 100%|██████████| 376/376 [03:14<00:00,  1.93it/s]\n",
            "                 Class     Images  Instances      Box(P          R      mAP50  mAP50-95): 100%|██████████| 38/38 [00:18<00:00,  2.10it/s]"
          ]
        },
        {
          "metadata": {
            "tags": null
          },
          "name": "stdout",
          "output_type": "stream",
          "text": [
            "                   all       1212       2641      0.589      0.491      0.553      0.289\n"
          ]
        },
        {
          "metadata": {
            "tags": null
          },
          "name": "stderr",
          "output_type": "stream",
          "text": [
            "\n"
          ]
        },
        {
          "metadata": {
            "tags": null
          },
          "name": "stdout",
          "output_type": "stream",
          "text": [
            "\n",
            "      Epoch    GPU_mem   box_loss   cls_loss   dfl_loss  Instances       Size\n"
          ]
        },
        {
          "metadata": {
            "tags": null
          },
          "name": "stderr",
          "output_type": "stream",
          "text": [
            "      25/30      7.29G      1.502       1.22      1.547         15        640: 100%|██████████| 376/376 [03:14<00:00,  1.93it/s]\n",
            "                 Class     Images  Instances      Box(P          R      mAP50  mAP50-95): 100%|██████████| 38/38 [00:19<00:00,  1.95it/s]"
          ]
        },
        {
          "metadata": {
            "tags": null
          },
          "name": "stdout",
          "output_type": "stream",
          "text": [
            "                   all       1212       2641       0.59      0.496       0.56      0.296\n"
          ]
        },
        {
          "metadata": {
            "tags": null
          },
          "name": "stderr",
          "output_type": "stream",
          "text": [
            "\n"
          ]
        },
        {
          "metadata": {
            "tags": null
          },
          "name": "stdout",
          "output_type": "stream",
          "text": [
            "\n",
            "      Epoch    GPU_mem   box_loss   cls_loss   dfl_loss  Instances       Size\n"
          ]
        },
        {
          "metadata": {
            "tags": null
          },
          "name": "stderr",
          "output_type": "stream",
          "text": [
            "      26/30      7.29G      1.477      1.197      1.526         18        640: 100%|██████████| 376/376 [03:14<00:00,  1.93it/s]\n",
            "                 Class     Images  Instances      Box(P          R      mAP50  mAP50-95): 100%|██████████| 38/38 [00:19<00:00,  1.97it/s]"
          ]
        },
        {
          "metadata": {
            "tags": null
          },
          "name": "stdout",
          "output_type": "stream",
          "text": [
            "                   all       1212       2641      0.585      0.503      0.558      0.295\n"
          ]
        },
        {
          "metadata": {
            "tags": null
          },
          "name": "stderr",
          "output_type": "stream",
          "text": [
            "\n"
          ]
        },
        {
          "metadata": {
            "tags": null
          },
          "name": "stdout",
          "output_type": "stream",
          "text": [
            "\n",
            "      Epoch    GPU_mem   box_loss   cls_loss   dfl_loss  Instances       Size\n"
          ]
        },
        {
          "metadata": {
            "tags": null
          },
          "name": "stderr",
          "output_type": "stream",
          "text": [
            "      27/30      7.29G      1.449      1.162      1.507         17        640: 100%|██████████| 376/376 [03:14<00:00,  1.93it/s]\n",
            "                 Class     Images  Instances      Box(P          R      mAP50  mAP50-95): 100%|██████████| 38/38 [00:19<00:00,  1.96it/s]"
          ]
        },
        {
          "metadata": {
            "tags": null
          },
          "name": "stdout",
          "output_type": "stream",
          "text": [
            "                   all       1212       2641      0.591      0.526      0.572      0.297\n"
          ]
        },
        {
          "metadata": {
            "tags": null
          },
          "name": "stderr",
          "output_type": "stream",
          "text": [
            "\n"
          ]
        },
        {
          "metadata": {
            "tags": null
          },
          "name": "stdout",
          "output_type": "stream",
          "text": [
            "\n",
            "      Epoch    GPU_mem   box_loss   cls_loss   dfl_loss  Instances       Size\n"
          ]
        },
        {
          "metadata": {
            "tags": null
          },
          "name": "stderr",
          "output_type": "stream",
          "text": [
            "      28/30      7.29G      1.435      1.132      1.496         12        640: 100%|██████████| 376/376 [03:15<00:00,  1.93it/s]\n",
            "                 Class     Images  Instances      Box(P          R      mAP50  mAP50-95): 100%|██████████| 38/38 [00:18<00:00,  2.00it/s]"
          ]
        },
        {
          "metadata": {
            "tags": null
          },
          "name": "stdout",
          "output_type": "stream",
          "text": [
            "                   all       1212       2641      0.598      0.544      0.591      0.307\n"
          ]
        },
        {
          "metadata": {
            "tags": null
          },
          "name": "stderr",
          "output_type": "stream",
          "text": [
            "\n"
          ]
        },
        {
          "metadata": {
            "tags": null
          },
          "name": "stdout",
          "output_type": "stream",
          "text": [
            "\n",
            "      Epoch    GPU_mem   box_loss   cls_loss   dfl_loss  Instances       Size\n"
          ]
        },
        {
          "metadata": {
            "tags": null
          },
          "name": "stderr",
          "output_type": "stream",
          "text": [
            "      29/30      7.29G       1.42      1.126      1.487         16        640: 100%|██████████| 376/376 [03:15<00:00,  1.92it/s]\n",
            "                 Class     Images  Instances      Box(P          R      mAP50  mAP50-95): 100%|██████████| 38/38 [00:19<00:00,  1.99it/s]"
          ]
        },
        {
          "metadata": {
            "tags": null
          },
          "name": "stdout",
          "output_type": "stream",
          "text": [
            "                   all       1212       2641      0.592      0.534      0.577      0.303\n"
          ]
        },
        {
          "metadata": {
            "tags": null
          },
          "name": "stderr",
          "output_type": "stream",
          "text": [
            "\n"
          ]
        },
        {
          "metadata": {
            "tags": null
          },
          "name": "stdout",
          "output_type": "stream",
          "text": [
            "\n",
            "      Epoch    GPU_mem   box_loss   cls_loss   dfl_loss  Instances       Size\n"
          ]
        },
        {
          "output_type": "stream",
          "name": "stderr",
          "text": [
            "      30/30      7.27G      1.403      1.093      1.471         13        640: 100%|██████████| 376/376 [03:15<00:00,  1.93it/s]\n",
            "                 Class     Images  Instances      Box(P          R      mAP50  mAP50-95): 100%|██████████| 38/38 [00:19<00:00,  1.99it/s]"
          ]
        },
        {
          "output_type": "stream",
          "name": "stdout",
          "text": [
            "                   all       1212       2641      0.604      0.535      0.586       0.31\n"
          ]
        },
        {
          "output_type": "stream",
          "name": "stderr",
          "text": [
            "\n"
          ]
        },
        {
          "output_type": "stream",
          "name": "stdout",
          "text": [
            "\n",
            "30 epochs completed in 1.854 hours.\n",
            "Optimizer stripped from runs/detect/data13/weights/last.pt, 52.0MB\n",
            "Optimizer stripped from runs/detect/data13/weights/best.pt, 52.0MB\n",
            "\n",
            "Validating runs/detect/data13/weights/best.pt...\n",
            "Ultralytics YOLOv8.1.16 🚀 Python-3.10.12 torch-2.1.0+cu121 CUDA:0 (Tesla T4, 15102MiB)\n",
            "Model summary (fused): 218 layers, 25840339 parameters, 0 gradients, 78.7 GFLOPs\n"
          ]
        },
        {
          "output_type": "stream",
          "name": "stderr",
          "text": [
            "                 Class     Images  Instances      Box(P          R      mAP50  mAP50-95): 100%|██████████| 38/38 [00:22<00:00,  1.65it/s]\n"
          ]
        },
        {
          "output_type": "stream",
          "name": "stdout",
          "text": [
            "                   all       1212       2641      0.605      0.536      0.586      0.309\n",
            "Speed: 0.3ms preprocess, 10.5ms inference, 0.0ms loss, 1.8ms postprocess per image\n",
            "Results saved to \u001b[1mruns/detect/data13\u001b[0m\n"
          ]
        },
        {
          "output_type": "execute_result",
          "data": {
            "text/plain": [
              "ultralytics.utils.metrics.DetMetrics object with attributes:\n",
              "\n",
              "ap_class_index: array([0])\n",
              "box: ultralytics.utils.metrics.Metric object\n",
              "confusion_matrix: <ultralytics.utils.metrics.ConfusionMatrix object at 0x7928bfd24af0>\n",
              "curves: ['Precision-Recall(B)', 'F1-Confidence(B)', 'Precision-Confidence(B)', 'Recall-Confidence(B)']\n",
              "curves_results: [[array([          0,    0.001001,    0.002002,    0.003003,    0.004004,    0.005005,    0.006006,    0.007007,    0.008008,    0.009009,     0.01001,    0.011011,    0.012012,    0.013013,    0.014014,    0.015015,    0.016016,    0.017017,    0.018018,    0.019019,     0.02002,    0.021021,    0.022022,    0.023023,\n",
              "          0.024024,    0.025025,    0.026026,    0.027027,    0.028028,    0.029029,     0.03003,    0.031031,    0.032032,    0.033033,    0.034034,    0.035035,    0.036036,    0.037037,    0.038038,    0.039039,     0.04004,    0.041041,    0.042042,    0.043043,    0.044044,    0.045045,    0.046046,    0.047047,\n",
              "          0.048048,    0.049049,     0.05005,    0.051051,    0.052052,    0.053053,    0.054054,    0.055055,    0.056056,    0.057057,    0.058058,    0.059059,     0.06006,    0.061061,    0.062062,    0.063063,    0.064064,    0.065065,    0.066066,    0.067067,    0.068068,    0.069069,     0.07007,    0.071071,\n",
              "          0.072072,    0.073073,    0.074074,    0.075075,    0.076076,    0.077077,    0.078078,    0.079079,     0.08008,    0.081081,    0.082082,    0.083083,    0.084084,    0.085085,    0.086086,    0.087087,    0.088088,    0.089089,     0.09009,    0.091091,    0.092092,    0.093093,    0.094094,    0.095095,\n",
              "          0.096096,    0.097097,    0.098098,    0.099099,      0.1001,      0.1011,      0.1021,      0.1031,      0.1041,     0.10511,     0.10611,     0.10711,     0.10811,     0.10911,     0.11011,     0.11111,     0.11211,     0.11311,     0.11411,     0.11512,     0.11612,     0.11712,     0.11812,     0.11912,\n",
              "           0.12012,     0.12112,     0.12212,     0.12312,     0.12412,     0.12513,     0.12613,     0.12713,     0.12813,     0.12913,     0.13013,     0.13113,     0.13213,     0.13313,     0.13413,     0.13514,     0.13614,     0.13714,     0.13814,     0.13914,     0.14014,     0.14114,     0.14214,     0.14314,\n",
              "           0.14414,     0.14515,     0.14615,     0.14715,     0.14815,     0.14915,     0.15015,     0.15115,     0.15215,     0.15315,     0.15415,     0.15516,     0.15616,     0.15716,     0.15816,     0.15916,     0.16016,     0.16116,     0.16216,     0.16316,     0.16416,     0.16517,     0.16617,     0.16717,\n",
              "           0.16817,     0.16917,     0.17017,     0.17117,     0.17217,     0.17317,     0.17417,     0.17518,     0.17618,     0.17718,     0.17818,     0.17918,     0.18018,     0.18118,     0.18218,     0.18318,     0.18418,     0.18519,     0.18619,     0.18719,     0.18819,     0.18919,     0.19019,     0.19119,\n",
              "           0.19219,     0.19319,     0.19419,      0.1952,      0.1962,      0.1972,      0.1982,      0.1992,      0.2002,      0.2012,      0.2022,      0.2032,      0.2042,     0.20521,     0.20621,     0.20721,     0.20821,     0.20921,     0.21021,     0.21121,     0.21221,     0.21321,     0.21421,     0.21522,\n",
              "           0.21622,     0.21722,     0.21822,     0.21922,     0.22022,     0.22122,     0.22222,     0.22322,     0.22422,     0.22523,     0.22623,     0.22723,     0.22823,     0.22923,     0.23023,     0.23123,     0.23223,     0.23323,     0.23423,     0.23524,     0.23624,     0.23724,     0.23824,     0.23924,\n",
              "           0.24024,     0.24124,     0.24224,     0.24324,     0.24424,     0.24525,     0.24625,     0.24725,     0.24825,     0.24925,     0.25025,     0.25125,     0.25225,     0.25325,     0.25425,     0.25526,     0.25626,     0.25726,     0.25826,     0.25926,     0.26026,     0.26126,     0.26226,     0.26326,\n",
              "           0.26426,     0.26527,     0.26627,     0.26727,     0.26827,     0.26927,     0.27027,     0.27127,     0.27227,     0.27327,     0.27427,     0.27528,     0.27628,     0.27728,     0.27828,     0.27928,     0.28028,     0.28128,     0.28228,     0.28328,     0.28428,     0.28529,     0.28629,     0.28729,\n",
              "           0.28829,     0.28929,     0.29029,     0.29129,     0.29229,     0.29329,     0.29429,      0.2953,      0.2963,      0.2973,      0.2983,      0.2993,      0.3003,      0.3013,      0.3023,      0.3033,      0.3043,     0.30531,     0.30631,     0.30731,     0.30831,     0.30931,     0.31031,     0.31131,\n",
              "           0.31231,     0.31331,     0.31431,     0.31532,     0.31632,     0.31732,     0.31832,     0.31932,     0.32032,     0.32132,     0.32232,     0.32332,     0.32432,     0.32533,     0.32633,     0.32733,     0.32833,     0.32933,     0.33033,     0.33133,     0.33233,     0.33333,     0.33433,     0.33534,\n",
              "           0.33634,     0.33734,     0.33834,     0.33934,     0.34034,     0.34134,     0.34234,     0.34334,     0.34434,     0.34535,     0.34635,     0.34735,     0.34835,     0.34935,     0.35035,     0.35135,     0.35235,     0.35335,     0.35435,     0.35536,     0.35636,     0.35736,     0.35836,     0.35936,\n",
              "           0.36036,     0.36136,     0.36236,     0.36336,     0.36436,     0.36537,     0.36637,     0.36737,     0.36837,     0.36937,     0.37037,     0.37137,     0.37237,     0.37337,     0.37437,     0.37538,     0.37638,     0.37738,     0.37838,     0.37938,     0.38038,     0.38138,     0.38238,     0.38338,\n",
              "           0.38438,     0.38539,     0.38639,     0.38739,     0.38839,     0.38939,     0.39039,     0.39139,     0.39239,     0.39339,     0.39439,      0.3954,      0.3964,      0.3974,      0.3984,      0.3994,      0.4004,      0.4014,      0.4024,      0.4034,      0.4044,     0.40541,     0.40641,     0.40741,\n",
              "           0.40841,     0.40941,     0.41041,     0.41141,     0.41241,     0.41341,     0.41441,     0.41542,     0.41642,     0.41742,     0.41842,     0.41942,     0.42042,     0.42142,     0.42242,     0.42342,     0.42442,     0.42543,     0.42643,     0.42743,     0.42843,     0.42943,     0.43043,     0.43143,\n",
              "           0.43243,     0.43343,     0.43443,     0.43544,     0.43644,     0.43744,     0.43844,     0.43944,     0.44044,     0.44144,     0.44244,     0.44344,     0.44444,     0.44545,     0.44645,     0.44745,     0.44845,     0.44945,     0.45045,     0.45145,     0.45245,     0.45345,     0.45445,     0.45546,\n",
              "           0.45646,     0.45746,     0.45846,     0.45946,     0.46046,     0.46146,     0.46246,     0.46346,     0.46446,     0.46547,     0.46647,     0.46747,     0.46847,     0.46947,     0.47047,     0.47147,     0.47247,     0.47347,     0.47447,     0.47548,     0.47648,     0.47748,     0.47848,     0.47948,\n",
              "           0.48048,     0.48148,     0.48248,     0.48348,     0.48448,     0.48549,     0.48649,     0.48749,     0.48849,     0.48949,     0.49049,     0.49149,     0.49249,     0.49349,     0.49449,      0.4955,      0.4965,      0.4975,      0.4985,      0.4995,      0.5005,      0.5015,      0.5025,      0.5035,\n",
              "            0.5045,     0.50551,     0.50651,     0.50751,     0.50851,     0.50951,     0.51051,     0.51151,     0.51251,     0.51351,     0.51451,     0.51552,     0.51652,     0.51752,     0.51852,     0.51952,     0.52052,     0.52152,     0.52252,     0.52352,     0.52452,     0.52553,     0.52653,     0.52753,\n",
              "           0.52853,     0.52953,     0.53053,     0.53153,     0.53253,     0.53353,     0.53453,     0.53554,     0.53654,     0.53754,     0.53854,     0.53954,     0.54054,     0.54154,     0.54254,     0.54354,     0.54454,     0.54555,     0.54655,     0.54755,     0.54855,     0.54955,     0.55055,     0.55155,\n",
              "           0.55255,     0.55355,     0.55455,     0.55556,     0.55656,     0.55756,     0.55856,     0.55956,     0.56056,     0.56156,     0.56256,     0.56356,     0.56456,     0.56557,     0.56657,     0.56757,     0.56857,     0.56957,     0.57057,     0.57157,     0.57257,     0.57357,     0.57457,     0.57558,\n",
              "           0.57658,     0.57758,     0.57858,     0.57958,     0.58058,     0.58158,     0.58258,     0.58358,     0.58458,     0.58559,     0.58659,     0.58759,     0.58859,     0.58959,     0.59059,     0.59159,     0.59259,     0.59359,     0.59459,      0.5956,      0.5966,      0.5976,      0.5986,      0.5996,\n",
              "            0.6006,      0.6016,      0.6026,      0.6036,      0.6046,     0.60561,     0.60661,     0.60761,     0.60861,     0.60961,     0.61061,     0.61161,     0.61261,     0.61361,     0.61461,     0.61562,     0.61662,     0.61762,     0.61862,     0.61962,     0.62062,     0.62162,     0.62262,     0.62362,\n",
              "           0.62462,     0.62563,     0.62663,     0.62763,     0.62863,     0.62963,     0.63063,     0.63163,     0.63263,     0.63363,     0.63463,     0.63564,     0.63664,     0.63764,     0.63864,     0.63964,     0.64064,     0.64164,     0.64264,     0.64364,     0.64464,     0.64565,     0.64665,     0.64765,\n",
              "           0.64865,     0.64965,     0.65065,     0.65165,     0.65265,     0.65365,     0.65465,     0.65566,     0.65666,     0.65766,     0.65866,     0.65966,     0.66066,     0.66166,     0.66266,     0.66366,     0.66466,     0.66567,     0.66667,     0.66767,     0.66867,     0.66967,     0.67067,     0.67167,\n",
              "           0.67267,     0.67367,     0.67467,     0.67568,     0.67668,     0.67768,     0.67868,     0.67968,     0.68068,     0.68168,     0.68268,     0.68368,     0.68468,     0.68569,     0.68669,     0.68769,     0.68869,     0.68969,     0.69069,     0.69169,     0.69269,     0.69369,     0.69469,      0.6957,\n",
              "            0.6967,      0.6977,      0.6987,      0.6997,      0.7007,      0.7017,      0.7027,      0.7037,      0.7047,     0.70571,     0.70671,     0.70771,     0.70871,     0.70971,     0.71071,     0.71171,     0.71271,     0.71371,     0.71471,     0.71572,     0.71672,     0.71772,     0.71872,     0.71972,\n",
              "           0.72072,     0.72172,     0.72272,     0.72372,     0.72472,     0.72573,     0.72673,     0.72773,     0.72873,     0.72973,     0.73073,     0.73173,     0.73273,     0.73373,     0.73473,     0.73574,     0.73674,     0.73774,     0.73874,     0.73974,     0.74074,     0.74174,     0.74274,     0.74374,\n",
              "           0.74474,     0.74575,     0.74675,     0.74775,     0.74875,     0.74975,     0.75075,     0.75175,     0.75275,     0.75375,     0.75475,     0.75576,     0.75676,     0.75776,     0.75876,     0.75976,     0.76076,     0.76176,     0.76276,     0.76376,     0.76476,     0.76577,     0.76677,     0.76777,\n",
              "           0.76877,     0.76977,     0.77077,     0.77177,     0.77277,     0.77377,     0.77477,     0.77578,     0.77678,     0.77778,     0.77878,     0.77978,     0.78078,     0.78178,     0.78278,     0.78378,     0.78478,     0.78579,     0.78679,     0.78779,     0.78879,     0.78979,     0.79079,     0.79179,\n",
              "           0.79279,     0.79379,     0.79479,      0.7958,      0.7968,      0.7978,      0.7988,      0.7998,      0.8008,      0.8018,      0.8028,      0.8038,      0.8048,     0.80581,     0.80681,     0.80781,     0.80881,     0.80981,     0.81081,     0.81181,     0.81281,     0.81381,     0.81481,     0.81582,\n",
              "           0.81682,     0.81782,     0.81882,     0.81982,     0.82082,     0.82182,     0.82282,     0.82382,     0.82482,     0.82583,     0.82683,     0.82783,     0.82883,     0.82983,     0.83083,     0.83183,     0.83283,     0.83383,     0.83483,     0.83584,     0.83684,     0.83784,     0.83884,     0.83984,\n",
              "           0.84084,     0.84184,     0.84284,     0.84384,     0.84484,     0.84585,     0.84685,     0.84785,     0.84885,     0.84985,     0.85085,     0.85185,     0.85285,     0.85385,     0.85485,     0.85586,     0.85686,     0.85786,     0.85886,     0.85986,     0.86086,     0.86186,     0.86286,     0.86386,\n",
              "           0.86486,     0.86587,     0.86687,     0.86787,     0.86887,     0.86987,     0.87087,     0.87187,     0.87287,     0.87387,     0.87487,     0.87588,     0.87688,     0.87788,     0.87888,     0.87988,     0.88088,     0.88188,     0.88288,     0.88388,     0.88488,     0.88589,     0.88689,     0.88789,\n",
              "           0.88889,     0.88989,     0.89089,     0.89189,     0.89289,     0.89389,     0.89489,      0.8959,      0.8969,      0.8979,      0.8989,      0.8999,      0.9009,      0.9019,      0.9029,      0.9039,      0.9049,     0.90591,     0.90691,     0.90791,     0.90891,     0.90991,     0.91091,     0.91191,\n",
              "           0.91291,     0.91391,     0.91491,     0.91592,     0.91692,     0.91792,     0.91892,     0.91992,     0.92092,     0.92192,     0.92292,     0.92392,     0.92492,     0.92593,     0.92693,     0.92793,     0.92893,     0.92993,     0.93093,     0.93193,     0.93293,     0.93393,     0.93493,     0.93594,\n",
              "           0.93694,     0.93794,     0.93894,     0.93994,     0.94094,     0.94194,     0.94294,     0.94394,     0.94494,     0.94595,     0.94695,     0.94795,     0.94895,     0.94995,     0.95095,     0.95195,     0.95295,     0.95395,     0.95495,     0.95596,     0.95696,     0.95796,     0.95896,     0.95996,\n",
              "           0.96096,     0.96196,     0.96296,     0.96396,     0.96496,     0.96597,     0.96697,     0.96797,     0.96897,     0.96997,     0.97097,     0.97197,     0.97297,     0.97397,     0.97497,     0.97598,     0.97698,     0.97798,     0.97898,     0.97998,     0.98098,     0.98198,     0.98298,     0.98398,\n",
              "           0.98498,     0.98599,     0.98699,     0.98799,     0.98899,     0.98999,     0.99099,     0.99199,     0.99299,     0.99399,     0.99499,       0.996,       0.997,       0.998,       0.999,           1]), array([[          1,           1,           1,           1,           1,           1,           1,           1,           1,           1,           1,           1,           1,           1,           1,           1,           1,           1,           1,           1,           1,           1,           1,\n",
              "                  1,           1,     0.98684,     0.98684,     0.98684,     0.98684,     0.97959,     0.97959,     0.97959,     0.97959,     0.97959,     0.97959,     0.97959,     0.97959,     0.97561,     0.97561,     0.97561,     0.97561,     0.97561,     0.97561,     0.97561,     0.97561,     0.97561,\n",
              "            0.97321,     0.97321,     0.97321,     0.97321,     0.97321,     0.97321,     0.97321,     0.97321,     0.97321,     0.97321,     0.97321,     0.97321,     0.97321,     0.97321,     0.97321,     0.97321,     0.97321,     0.97321,     0.97321,     0.97321,     0.97321,     0.97321,     0.97321,\n",
              "            0.97321,     0.97321,     0.97321,     0.97321,     0.97321,     0.97321,     0.97321,     0.97321,     0.97321,     0.97321,     0.97321,     0.97321,     0.97321,     0.97321,     0.97321,     0.97321,     0.97321,     0.97321,     0.97321,     0.97321,     0.97321,     0.97321,     0.97321,\n",
              "            0.97321,     0.97321,     0.97321,     0.97321,     0.97321,     0.97321,     0.97321,     0.97321,     0.97321,     0.97321,     0.97321,     0.97321,     0.97321,     0.97321,     0.97321,     0.97321,     0.97321,     0.97321,     0.97321,     0.97321,     0.97321,     0.97321,     0.97321,\n",
              "            0.97321,     0.97321,     0.97321,     0.97321,     0.97321,     0.97321,     0.97321,     0.97321,     0.97321,      0.9705,     0.96899,     0.96899,     0.96899,     0.96899,     0.96899,     0.96899,     0.96899,     0.96899,     0.96899,     0.96899,     0.96899,     0.96899,     0.96899,\n",
              "            0.96899,     0.96899,     0.96899,     0.96899,     0.96806,     0.96806,     0.96806,     0.96806,     0.96806,     0.96806,     0.96806,     0.96806,     0.96729,     0.96729,     0.96729,     0.96729,     0.96729,     0.96729,     0.96729,     0.96591,     0.96591,     0.96591,     0.96591,\n",
              "            0.96437,     0.96437,     0.96437,     0.96296,     0.96296,     0.96296,     0.96296,     0.96016,     0.96016,     0.96016,     0.96016,     0.96016,     0.96016,     0.96016,     0.96016,     0.96016,     0.96016,     0.96016,     0.96016,     0.96016,     0.96016,     0.96016,     0.95898,\n",
              "            0.95898,     0.95898,     0.95753,     0.95753,     0.95611,     0.95611,      0.9548,      0.9548,     0.95413,     0.95413,     0.95413,     0.95413,     0.95413,     0.95247,     0.94803,     0.94803,     0.94803,       0.947,       0.947,      0.9459,      0.9459,      0.9459,     0.94301,\n",
              "            0.92917,     0.92917,     0.92475,     0.92371,     0.92231,      0.9198,     0.91922,     0.91922,     0.91922,     0.91534,     0.91401,     0.91167,     0.91038,     0.90712,     0.90712,      0.9063,      0.9063,     0.90259,     0.90166,      0.9006,      0.8997,     0.89866,     0.89645,\n",
              "             0.8955,      0.8955,      0.8955,      0.8955,     0.89466,      0.8927,      0.8927,     0.89014,     0.89014,     0.89014,     0.88579,     0.88398,     0.88398,     0.88163,     0.88163,     0.88163,     0.87802,     0.87802,     0.87483,     0.87417,     0.87335,     0.87304,     0.87304,\n",
              "            0.87013,     0.86873,     0.86873,     0.86795,     0.86735,     0.86582,     0.86381,     0.86216,     0.86142,     0.86139,     0.86139,     0.85961,     0.85924,     0.85871,     0.85784,     0.85697,     0.85697,     0.85646,     0.85545,     0.85545,     0.85545,     0.85463,     0.85463,\n",
              "            0.85181,     0.84971,     0.84971,     0.84379,     0.84329,     0.84329,     0.84329,     0.83408,     0.83296,     0.83223,     0.83208,     0.83208,     0.83208,     0.83208,     0.83208,     0.83208,     0.83208,     0.83173,     0.82961,     0.82891,     0.82737,     0.82737,     0.82341,\n",
              "            0.82225,     0.82195,     0.81939,     0.81939,     0.81939,     0.81937,     0.81937,     0.81937,     0.81937,     0.81864,     0.81864,     0.81845,     0.81845,     0.81845,     0.81514,     0.81507,     0.81507,     0.81359,     0.80952,     0.80952,     0.80952,     0.80952,     0.80952,\n",
              "             0.8066,      0.8066,     0.80319,     0.80055,     0.80055,     0.80055,     0.80055,     0.80055,     0.80055,         0.8,     0.79764,     0.79656,     0.79515,     0.79499,     0.79289,     0.79289,      0.7924,      0.7924,     0.79156,     0.79123,     0.79058,      0.7887,     0.78788,\n",
              "            0.78639,     0.78445,     0.78445,     0.78445,     0.78445,     0.78445,     0.78445,     0.78385,     0.78374,     0.78261,     0.78055,     0.77998,     0.77714,     0.77514,     0.77488,     0.77417,     0.77284,     0.77177,      0.7704,      0.7704,     0.76996,     0.76996,     0.76996,\n",
              "            0.76996,     0.76784,     0.76784,      0.7642,     0.76334,     0.76334,     0.76194,     0.76132,     0.76027,     0.76027,      0.7593,     0.75816,     0.75816,     0.75816,     0.75816,     0.75816,     0.75816,     0.75816,     0.75816,     0.75755,     0.75755,     0.75735,      0.7566,\n",
              "            0.75474,     0.75254,     0.75235,     0.75036,     0.75018,     0.74786,     0.74666,     0.74666,     0.74666,     0.74666,     0.74666,     0.74492,     0.74286,     0.74133,     0.74033,     0.73735,     0.73735,     0.73702,     0.73577,     0.73577,     0.73496,     0.73289,     0.73289,\n",
              "            0.73267,     0.73267,     0.73187,     0.73095,     0.72847,     0.72847,     0.72745,     0.72745,      0.7268,      0.7268,     0.72616,     0.72616,     0.72616,     0.72558,     0.72414,     0.72405,     0.72405,     0.72405,     0.72405,     0.72394,      0.7231,     0.72243,     0.72243,\n",
              "            0.71998,      0.7197,     0.71755,     0.71719,     0.71446,     0.71368,     0.71203,     0.71075,     0.71075,     0.70956,     0.70687,     0.70662,     0.70574,     0.70574,     0.70501,     0.70501,     0.70388,     0.70169,     0.70146,     0.70035,     0.69994,     0.69994,     0.69988,\n",
              "            0.69983,     0.69794,     0.69511,     0.69053,     0.69049,     0.68925,     0.68844,     0.68701,     0.68701,      0.6866,     0.68447,     0.68274,     0.68122,     0.67989,     0.67857,     0.67817,     0.67777,     0.67777,     0.67775,     0.67537,     0.67535,      0.6748,     0.67123,\n",
              "            0.67087,     0.67068,     0.66823,     0.66684,     0.66649,     0.66649,     0.66581,     0.66581,     0.66564,     0.66564,     0.66294,     0.66261,      0.6623,      0.6623,      0.6623,     0.66181,     0.65803,     0.65771,     0.65562,     0.65516,     0.65388,       0.652,     0.65139,\n",
              "            0.65053,     0.65053,     0.65053,     0.64961,     0.64731,     0.64641,     0.64568,     0.64343,     0.64094,     0.64094,     0.63891,     0.63866,     0.63751,     0.63418,      0.6316,     0.62779,     0.62756,     0.62693,     0.62337,      0.6227,     0.62021,     0.61808,     0.61797,\n",
              "             0.6136,     0.61303,     0.61097,     0.60917,     0.60881,      0.6081,       0.606,     0.60504,     0.60468,      0.6022,     0.60152,     0.59824,     0.59304,      0.5919,     0.58893,     0.58735,      0.5872,     0.58485,     0.58441,     0.58404,      0.5815,     0.58014,     0.58006,\n",
              "            0.58006,      0.5797,     0.57928,     0.57827,     0.57827,     0.57827,     0.57683,     0.57683,     0.57626,     0.57447,      0.5743,     0.57424,     0.57209,     0.57126,     0.56705,     0.56514,     0.56445,     0.56278,     0.56127,     0.56092,     0.56053,     0.55838,     0.55784,\n",
              "            0.55755,     0.55539,      0.5543,     0.55298,     0.55171,     0.55081,     0.54877,     0.54769,     0.54661,     0.54558,     0.54376,     0.54026,     0.53886,     0.53788,     0.53666,      0.5359,     0.53509,     0.53411,     0.53171,     0.53001,     0.52963,     0.52815,     0.52719,\n",
              "            0.52663,     0.52501,     0.52376,      0.5227,      0.5218,     0.51921,     0.51901,     0.51797,     0.51541,     0.51541,     0.51374,     0.51224,     0.51141,     0.51058,     0.50897,     0.50672,     0.50466,     0.50466,     0.50123,     0.49893,     0.49893,     0.49893,     0.49787,\n",
              "            0.49652,     0.49534,     0.49504,      0.4949,      0.4911,      0.4911,     0.49097,     0.48954,     0.48811,     0.48742,     0.48532,     0.48338,     0.48284,     0.48162,     0.48054,     0.47758,     0.47734,     0.47709,     0.47459,     0.47263,       0.471,     0.47064,     0.47052,\n",
              "            0.46946,     0.46946,     0.46848,     0.46761,     0.46601,     0.46592,     0.46447,     0.46405,     0.46369,       0.463,     0.46144,     0.45907,     0.45658,     0.45507,     0.45383,     0.45237,     0.45067,     0.45063,     0.45039,      0.4494,     0.44933,     0.44758,     0.44616,\n",
              "            0.44478,     0.44411,     0.44369,     0.44134,     0.43944,     0.43758,     0.43617,     0.43612,     0.43505,     0.43282,     0.43164,     0.42936,     0.42864,      0.4281,     0.42627,     0.42624,     0.42524,      0.4228,     0.42257,     0.42166,     0.42155,     0.42155,     0.41927,\n",
              "            0.41819,     0.41722,     0.41487,     0.41219,      0.4107,     0.40767,     0.40752,     0.40742,     0.40742,     0.40517,     0.40388,     0.40243,     0.40243,     0.39978,      0.3982,     0.39656,     0.39471,     0.39352,      0.3909,     0.38612,     0.38408,     0.38095,     0.37956,\n",
              "            0.37791,     0.37327,     0.37239,     0.37227,      0.3708,     0.36941,     0.36941,     0.36935,     0.36575,     0.36557,     0.36336,     0.36209,     0.36081,     0.35627,     0.35597,     0.35517,     0.35331,     0.35245,      0.3486,      0.3477,     0.34692,     0.34617,     0.34505,\n",
              "            0.34302,     0.34289,     0.34204,        0.34,     0.33672,     0.33533,     0.33424,     0.33215,     0.32959,     0.32779,     0.32644,     0.32564,     0.32544,     0.32322,     0.32296,     0.31899,     0.31839,     0.31831,     0.31556,     0.31478,     0.31386,     0.31198,     0.31128,\n",
              "            0.30905,      0.3089,     0.30845,      0.3036,     0.30264,     0.29988,     0.29677,     0.29546,     0.29345,     0.29206,     0.29093,     0.28937,     0.28755,     0.28569,     0.28271,     0.28083,     0.27941,      0.2773,     0.27433,     0.27332,     0.26907,     0.26796,     0.26689,\n",
              "            0.26459,     0.26343,      0.2626,     0.26067,     0.25981,      0.2566,      0.2539,     0.25063,     0.24919,     0.24778,      0.2474,     0.24656,     0.24351,     0.24312,     0.24198,     0.24102,     0.23912,      0.2371,     0.23471,     0.23062,        0.23,     0.22969,     0.22863,\n",
              "            0.22579,     0.22375,     0.22114,     0.21952,     0.21835,     0.21636,      0.2145,     0.21266,     0.21072,      0.2104,     0.20932,     0.20674,     0.20674,     0.20385,     0.20121,      0.2005,     0.19717,     0.19586,     0.19344,     0.19226,     0.19196,     0.19114,     0.18792,\n",
              "             0.1866,     0.18482,     0.17967,     0.17828,     0.17681,     0.17465,     0.17383,     0.16903,     0.16758,     0.16632,     0.16434,     0.16426,     0.16159,     0.15895,     0.15685,     0.15518,     0.15399,     0.15298,     0.15076,      0.1496,     0.14931,     0.14616,     0.14522,\n",
              "             0.1416,     0.14007,      0.1384,     0.13818,     0.13815,     0.13723,     0.13609,     0.13452,     0.13253,     0.12607,     0.12449,     0.12367,     0.12195,      0.1194,     0.11854,     0.11703,     0.11485,      0.1139,     0.11334,     0.11291,     0.11233,     0.10804,      0.1077,\n",
              "            0.10427,     0.10387,     0.10235,     0.10026,    0.099837,    0.099439,    0.096974,    0.094256,    0.093168,    0.090814,    0.088229,    0.087291,     0.08637,    0.085412,    0.078893,    0.076605,     0.07624,    0.075607,    0.074365,    0.073478,    0.071662,    0.070256,    0.067917,\n",
              "           0.066508,    0.064965,    0.064682,    0.063942,    0.063013,    0.061692,    0.059696,    0.057702,    0.055911,    0.054902,    0.054462,    0.052208,    0.051818,    0.050592,    0.050286,    0.048006,    0.046793,    0.043958,    0.043667,     0.04212,    0.041265,    0.040483,    0.038655,\n",
              "           0.038129,    0.037646,    0.037164,    0.036681,    0.036198,    0.035716,    0.035233,     0.03475,    0.034268,    0.033785,    0.033303,     0.03282,    0.032337,    0.031855,    0.031372,    0.030889,    0.030407,    0.029924,    0.029441,    0.028959,    0.028476,    0.027993,    0.027511,\n",
              "           0.027028,    0.026545,    0.026063,     0.02558,    0.025098,    0.024615,    0.024132,     0.02365,    0.023167,    0.022684,    0.022202,    0.021719,    0.021236,    0.020754,    0.020271,    0.019788,    0.019306,    0.018823,    0.018341,    0.017858,    0.017375,    0.016893,     0.01641,\n",
              "           0.015927,    0.015445,    0.014962,    0.014479,    0.013997,    0.013514,    0.013031,    0.012549,    0.012066,    0.011583,    0.011101,    0.010618,    0.010136,   0.0096529,   0.0091703,   0.0086876,    0.008205,   0.0077223,   0.0072397,    0.006757,   0.0062744,   0.0057917,   0.0053091,\n",
              "          0.0048265,   0.0043438,   0.0038612,   0.0033785,   0.0028959,   0.0024132,   0.0019306,   0.0014479,  0.00096529,  0.00048265,           0]]), 'Recall', 'Precision'], [array([          0,    0.001001,    0.002002,    0.003003,    0.004004,    0.005005,    0.006006,    0.007007,    0.008008,    0.009009,     0.01001,    0.011011,    0.012012,    0.013013,    0.014014,    0.015015,    0.016016,    0.017017,    0.018018,    0.019019,     0.02002,    0.021021,    0.022022,    0.023023,\n",
              "          0.024024,    0.025025,    0.026026,    0.027027,    0.028028,    0.029029,     0.03003,    0.031031,    0.032032,    0.033033,    0.034034,    0.035035,    0.036036,    0.037037,    0.038038,    0.039039,     0.04004,    0.041041,    0.042042,    0.043043,    0.044044,    0.045045,    0.046046,    0.047047,\n",
              "          0.048048,    0.049049,     0.05005,    0.051051,    0.052052,    0.053053,    0.054054,    0.055055,    0.056056,    0.057057,    0.058058,    0.059059,     0.06006,    0.061061,    0.062062,    0.063063,    0.064064,    0.065065,    0.066066,    0.067067,    0.068068,    0.069069,     0.07007,    0.071071,\n",
              "          0.072072,    0.073073,    0.074074,    0.075075,    0.076076,    0.077077,    0.078078,    0.079079,     0.08008,    0.081081,    0.082082,    0.083083,    0.084084,    0.085085,    0.086086,    0.087087,    0.088088,    0.089089,     0.09009,    0.091091,    0.092092,    0.093093,    0.094094,    0.095095,\n",
              "          0.096096,    0.097097,    0.098098,    0.099099,      0.1001,      0.1011,      0.1021,      0.1031,      0.1041,     0.10511,     0.10611,     0.10711,     0.10811,     0.10911,     0.11011,     0.11111,     0.11211,     0.11311,     0.11411,     0.11512,     0.11612,     0.11712,     0.11812,     0.11912,\n",
              "           0.12012,     0.12112,     0.12212,     0.12312,     0.12412,     0.12513,     0.12613,     0.12713,     0.12813,     0.12913,     0.13013,     0.13113,     0.13213,     0.13313,     0.13413,     0.13514,     0.13614,     0.13714,     0.13814,     0.13914,     0.14014,     0.14114,     0.14214,     0.14314,\n",
              "           0.14414,     0.14515,     0.14615,     0.14715,     0.14815,     0.14915,     0.15015,     0.15115,     0.15215,     0.15315,     0.15415,     0.15516,     0.15616,     0.15716,     0.15816,     0.15916,     0.16016,     0.16116,     0.16216,     0.16316,     0.16416,     0.16517,     0.16617,     0.16717,\n",
              "           0.16817,     0.16917,     0.17017,     0.17117,     0.17217,     0.17317,     0.17417,     0.17518,     0.17618,     0.17718,     0.17818,     0.17918,     0.18018,     0.18118,     0.18218,     0.18318,     0.18418,     0.18519,     0.18619,     0.18719,     0.18819,     0.18919,     0.19019,     0.19119,\n",
              "           0.19219,     0.19319,     0.19419,      0.1952,      0.1962,      0.1972,      0.1982,      0.1992,      0.2002,      0.2012,      0.2022,      0.2032,      0.2042,     0.20521,     0.20621,     0.20721,     0.20821,     0.20921,     0.21021,     0.21121,     0.21221,     0.21321,     0.21421,     0.21522,\n",
              "           0.21622,     0.21722,     0.21822,     0.21922,     0.22022,     0.22122,     0.22222,     0.22322,     0.22422,     0.22523,     0.22623,     0.22723,     0.22823,     0.22923,     0.23023,     0.23123,     0.23223,     0.23323,     0.23423,     0.23524,     0.23624,     0.23724,     0.23824,     0.23924,\n",
              "           0.24024,     0.24124,     0.24224,     0.24324,     0.24424,     0.24525,     0.24625,     0.24725,     0.24825,     0.24925,     0.25025,     0.25125,     0.25225,     0.25325,     0.25425,     0.25526,     0.25626,     0.25726,     0.25826,     0.25926,     0.26026,     0.26126,     0.26226,     0.26326,\n",
              "           0.26426,     0.26527,     0.26627,     0.26727,     0.26827,     0.26927,     0.27027,     0.27127,     0.27227,     0.27327,     0.27427,     0.27528,     0.27628,     0.27728,     0.27828,     0.27928,     0.28028,     0.28128,     0.28228,     0.28328,     0.28428,     0.28529,     0.28629,     0.28729,\n",
              "           0.28829,     0.28929,     0.29029,     0.29129,     0.29229,     0.29329,     0.29429,      0.2953,      0.2963,      0.2973,      0.2983,      0.2993,      0.3003,      0.3013,      0.3023,      0.3033,      0.3043,     0.30531,     0.30631,     0.30731,     0.30831,     0.30931,     0.31031,     0.31131,\n",
              "           0.31231,     0.31331,     0.31431,     0.31532,     0.31632,     0.31732,     0.31832,     0.31932,     0.32032,     0.32132,     0.32232,     0.32332,     0.32432,     0.32533,     0.32633,     0.32733,     0.32833,     0.32933,     0.33033,     0.33133,     0.33233,     0.33333,     0.33433,     0.33534,\n",
              "           0.33634,     0.33734,     0.33834,     0.33934,     0.34034,     0.34134,     0.34234,     0.34334,     0.34434,     0.34535,     0.34635,     0.34735,     0.34835,     0.34935,     0.35035,     0.35135,     0.35235,     0.35335,     0.35435,     0.35536,     0.35636,     0.35736,     0.35836,     0.35936,\n",
              "           0.36036,     0.36136,     0.36236,     0.36336,     0.36436,     0.36537,     0.36637,     0.36737,     0.36837,     0.36937,     0.37037,     0.37137,     0.37237,     0.37337,     0.37437,     0.37538,     0.37638,     0.37738,     0.37838,     0.37938,     0.38038,     0.38138,     0.38238,     0.38338,\n",
              "           0.38438,     0.38539,     0.38639,     0.38739,     0.38839,     0.38939,     0.39039,     0.39139,     0.39239,     0.39339,     0.39439,      0.3954,      0.3964,      0.3974,      0.3984,      0.3994,      0.4004,      0.4014,      0.4024,      0.4034,      0.4044,     0.40541,     0.40641,     0.40741,\n",
              "           0.40841,     0.40941,     0.41041,     0.41141,     0.41241,     0.41341,     0.41441,     0.41542,     0.41642,     0.41742,     0.41842,     0.41942,     0.42042,     0.42142,     0.42242,     0.42342,     0.42442,     0.42543,     0.42643,     0.42743,     0.42843,     0.42943,     0.43043,     0.43143,\n",
              "           0.43243,     0.43343,     0.43443,     0.43544,     0.43644,     0.43744,     0.43844,     0.43944,     0.44044,     0.44144,     0.44244,     0.44344,     0.44444,     0.44545,     0.44645,     0.44745,     0.44845,     0.44945,     0.45045,     0.45145,     0.45245,     0.45345,     0.45445,     0.45546,\n",
              "           0.45646,     0.45746,     0.45846,     0.45946,     0.46046,     0.46146,     0.46246,     0.46346,     0.46446,     0.46547,     0.46647,     0.46747,     0.46847,     0.46947,     0.47047,     0.47147,     0.47247,     0.47347,     0.47447,     0.47548,     0.47648,     0.47748,     0.47848,     0.47948,\n",
              "           0.48048,     0.48148,     0.48248,     0.48348,     0.48448,     0.48549,     0.48649,     0.48749,     0.48849,     0.48949,     0.49049,     0.49149,     0.49249,     0.49349,     0.49449,      0.4955,      0.4965,      0.4975,      0.4985,      0.4995,      0.5005,      0.5015,      0.5025,      0.5035,\n",
              "            0.5045,     0.50551,     0.50651,     0.50751,     0.50851,     0.50951,     0.51051,     0.51151,     0.51251,     0.51351,     0.51451,     0.51552,     0.51652,     0.51752,     0.51852,     0.51952,     0.52052,     0.52152,     0.52252,     0.52352,     0.52452,     0.52553,     0.52653,     0.52753,\n",
              "           0.52853,     0.52953,     0.53053,     0.53153,     0.53253,     0.53353,     0.53453,     0.53554,     0.53654,     0.53754,     0.53854,     0.53954,     0.54054,     0.54154,     0.54254,     0.54354,     0.54454,     0.54555,     0.54655,     0.54755,     0.54855,     0.54955,     0.55055,     0.55155,\n",
              "           0.55255,     0.55355,     0.55455,     0.55556,     0.55656,     0.55756,     0.55856,     0.55956,     0.56056,     0.56156,     0.56256,     0.56356,     0.56456,     0.56557,     0.56657,     0.56757,     0.56857,     0.56957,     0.57057,     0.57157,     0.57257,     0.57357,     0.57457,     0.57558,\n",
              "           0.57658,     0.57758,     0.57858,     0.57958,     0.58058,     0.58158,     0.58258,     0.58358,     0.58458,     0.58559,     0.58659,     0.58759,     0.58859,     0.58959,     0.59059,     0.59159,     0.59259,     0.59359,     0.59459,      0.5956,      0.5966,      0.5976,      0.5986,      0.5996,\n",
              "            0.6006,      0.6016,      0.6026,      0.6036,      0.6046,     0.60561,     0.60661,     0.60761,     0.60861,     0.60961,     0.61061,     0.61161,     0.61261,     0.61361,     0.61461,     0.61562,     0.61662,     0.61762,     0.61862,     0.61962,     0.62062,     0.62162,     0.62262,     0.62362,\n",
              "           0.62462,     0.62563,     0.62663,     0.62763,     0.62863,     0.62963,     0.63063,     0.63163,     0.63263,     0.63363,     0.63463,     0.63564,     0.63664,     0.63764,     0.63864,     0.63964,     0.64064,     0.64164,     0.64264,     0.64364,     0.64464,     0.64565,     0.64665,     0.64765,\n",
              "           0.64865,     0.64965,     0.65065,     0.65165,     0.65265,     0.65365,     0.65465,     0.65566,     0.65666,     0.65766,     0.65866,     0.65966,     0.66066,     0.66166,     0.66266,     0.66366,     0.66466,     0.66567,     0.66667,     0.66767,     0.66867,     0.66967,     0.67067,     0.67167,\n",
              "           0.67267,     0.67367,     0.67467,     0.67568,     0.67668,     0.67768,     0.67868,     0.67968,     0.68068,     0.68168,     0.68268,     0.68368,     0.68468,     0.68569,     0.68669,     0.68769,     0.68869,     0.68969,     0.69069,     0.69169,     0.69269,     0.69369,     0.69469,      0.6957,\n",
              "            0.6967,      0.6977,      0.6987,      0.6997,      0.7007,      0.7017,      0.7027,      0.7037,      0.7047,     0.70571,     0.70671,     0.70771,     0.70871,     0.70971,     0.71071,     0.71171,     0.71271,     0.71371,     0.71471,     0.71572,     0.71672,     0.71772,     0.71872,     0.71972,\n",
              "           0.72072,     0.72172,     0.72272,     0.72372,     0.72472,     0.72573,     0.72673,     0.72773,     0.72873,     0.72973,     0.73073,     0.73173,     0.73273,     0.73373,     0.73473,     0.73574,     0.73674,     0.73774,     0.73874,     0.73974,     0.74074,     0.74174,     0.74274,     0.74374,\n",
              "           0.74474,     0.74575,     0.74675,     0.74775,     0.74875,     0.74975,     0.75075,     0.75175,     0.75275,     0.75375,     0.75475,     0.75576,     0.75676,     0.75776,     0.75876,     0.75976,     0.76076,     0.76176,     0.76276,     0.76376,     0.76476,     0.76577,     0.76677,     0.76777,\n",
              "           0.76877,     0.76977,     0.77077,     0.77177,     0.77277,     0.77377,     0.77477,     0.77578,     0.77678,     0.77778,     0.77878,     0.77978,     0.78078,     0.78178,     0.78278,     0.78378,     0.78478,     0.78579,     0.78679,     0.78779,     0.78879,     0.78979,     0.79079,     0.79179,\n",
              "           0.79279,     0.79379,     0.79479,      0.7958,      0.7968,      0.7978,      0.7988,      0.7998,      0.8008,      0.8018,      0.8028,      0.8038,      0.8048,     0.80581,     0.80681,     0.80781,     0.80881,     0.80981,     0.81081,     0.81181,     0.81281,     0.81381,     0.81481,     0.81582,\n",
              "           0.81682,     0.81782,     0.81882,     0.81982,     0.82082,     0.82182,     0.82282,     0.82382,     0.82482,     0.82583,     0.82683,     0.82783,     0.82883,     0.82983,     0.83083,     0.83183,     0.83283,     0.83383,     0.83483,     0.83584,     0.83684,     0.83784,     0.83884,     0.83984,\n",
              "           0.84084,     0.84184,     0.84284,     0.84384,     0.84484,     0.84585,     0.84685,     0.84785,     0.84885,     0.84985,     0.85085,     0.85185,     0.85285,     0.85385,     0.85485,     0.85586,     0.85686,     0.85786,     0.85886,     0.85986,     0.86086,     0.86186,     0.86286,     0.86386,\n",
              "           0.86486,     0.86587,     0.86687,     0.86787,     0.86887,     0.86987,     0.87087,     0.87187,     0.87287,     0.87387,     0.87487,     0.87588,     0.87688,     0.87788,     0.87888,     0.87988,     0.88088,     0.88188,     0.88288,     0.88388,     0.88488,     0.88589,     0.88689,     0.88789,\n",
              "           0.88889,     0.88989,     0.89089,     0.89189,     0.89289,     0.89389,     0.89489,      0.8959,      0.8969,      0.8979,      0.8989,      0.8999,      0.9009,      0.9019,      0.9029,      0.9039,      0.9049,     0.90591,     0.90691,     0.90791,     0.90891,     0.90991,     0.91091,     0.91191,\n",
              "           0.91291,     0.91391,     0.91491,     0.91592,     0.91692,     0.91792,     0.91892,     0.91992,     0.92092,     0.92192,     0.92292,     0.92392,     0.92492,     0.92593,     0.92693,     0.92793,     0.92893,     0.92993,     0.93093,     0.93193,     0.93293,     0.93393,     0.93493,     0.93594,\n",
              "           0.93694,     0.93794,     0.93894,     0.93994,     0.94094,     0.94194,     0.94294,     0.94394,     0.94494,     0.94595,     0.94695,     0.94795,     0.94895,     0.94995,     0.95095,     0.95195,     0.95295,     0.95395,     0.95495,     0.95596,     0.95696,     0.95796,     0.95896,     0.95996,\n",
              "           0.96096,     0.96196,     0.96296,     0.96396,     0.96496,     0.96597,     0.96697,     0.96797,     0.96897,     0.96997,     0.97097,     0.97197,     0.97297,     0.97397,     0.97497,     0.97598,     0.97698,     0.97798,     0.97898,     0.97998,     0.98098,     0.98198,     0.98298,     0.98398,\n",
              "           0.98498,     0.98599,     0.98699,     0.98799,     0.98899,     0.98999,     0.99099,     0.99199,     0.99299,     0.99399,     0.99499,       0.996,       0.997,       0.998,       0.999,           1]), array([[   0.073948,    0.073948,     0.10044,     0.12046,       0.137,     0.15119,     0.16434,     0.17574,     0.18642,     0.19633,      0.2054,     0.21334,     0.22116,     0.22941,     0.23731,     0.24409,      0.2505,     0.25677,     0.26234,     0.26863,     0.27488,     0.28048,     0.28638,\n",
              "              0.291,     0.29628,     0.30173,     0.30651,     0.31169,     0.31627,     0.32026,     0.32504,     0.32955,     0.33323,     0.33724,     0.34163,     0.34509,     0.34944,     0.35342,     0.35727,      0.3597,     0.36357,     0.36749,     0.37046,     0.37313,     0.37628,     0.37913,\n",
              "            0.38232,     0.38483,     0.38831,      0.3915,     0.39376,     0.39661,     0.39943,     0.40221,     0.40483,     0.40757,     0.41083,     0.41279,     0.41578,     0.41867,     0.42133,     0.42337,     0.42632,     0.42936,     0.43193,     0.43426,     0.43655,     0.43934,      0.4418,\n",
              "            0.44365,     0.44616,     0.44748,     0.44915,     0.45115,     0.45298,     0.45455,      0.4561,     0.45854,      0.4603,      0.4618,     0.46406,     0.46584,     0.46748,     0.46911,     0.47066,     0.47171,     0.47337,     0.47548,     0.47699,     0.47791,     0.48023,     0.48185,\n",
              "            0.48304,     0.48411,     0.48613,     0.48786,     0.48882,     0.48999,     0.49039,     0.49236,     0.49414,      0.4956,     0.49728,     0.49969,     0.50073,     0.50271,     0.50485,     0.50639,     0.50752,     0.50887,      0.5103,     0.51147,     0.51227,     0.51375,     0.51456,\n",
              "            0.51419,     0.51623,     0.51713,     0.51869,      0.5192,      0.5204,     0.52133,     0.52222,     0.52251,     0.52279,     0.52371,      0.5245,     0.52476,     0.52551,     0.52601,     0.52729,     0.52776,     0.52916,     0.52925,      0.5309,     0.53185,     0.53393,     0.53377,\n",
              "            0.53451,     0.53556,     0.53626,     0.53608,      0.5368,     0.53759,     0.53853,     0.53993,     0.54058,     0.54182,     0.54202,     0.54208,     0.54216,       0.543,     0.54309,     0.54323,     0.54303,      0.5441,     0.54464,     0.54556,     0.54586,     0.54598,     0.54659,\n",
              "            0.54763,     0.54774,     0.54788,     0.54896,     0.54982,     0.54976,     0.55016,      0.5506,     0.55072,     0.55169,     0.55203,     0.55173,     0.55207,     0.55272,     0.55226,     0.55281,     0.55353,     0.55446,     0.55508,     0.55566,       0.556,     0.55654,     0.55651,\n",
              "            0.55727,     0.55775,     0.55743,     0.55769,     0.55808,     0.55837,     0.55897,     0.55934,     0.55903,     0.55989,     0.55988,     0.56038,     0.56005,     0.56045,     0.56067,     0.56093,     0.56159,     0.56198,     0.56177,     0.56221,       0.562,     0.56195,     0.56265,\n",
              "            0.56372,     0.56382,     0.56454,     0.56443,     0.56444,     0.56469,     0.56538,     0.56563,     0.56595,     0.56599,     0.56568,     0.56589,     0.56586,     0.56658,     0.56633,     0.56617,     0.56582,     0.56659,     0.56628,     0.56685,     0.56733,     0.56813,     0.56823,\n",
              "            0.56827,      0.5688,     0.56836,     0.56838,     0.56817,      0.5676,     0.56787,     0.56639,     0.56605,     0.56615,     0.56501,       0.565,     0.56559,     0.56499,     0.56499,     0.56511,     0.56553,      0.5651,     0.56605,     0.56595,     0.56735,     0.56786,     0.56799,\n",
              "            0.56831,     0.56869,      0.5685,     0.56882,     0.56834,     0.56861,     0.56874,     0.56794,     0.56819,     0.56866,     0.56858,     0.56829,     0.56958,     0.56957,     0.56972,     0.57005,     0.56987,     0.56998,     0.56979,      0.5706,     0.57025,     0.57023,     0.56997,\n",
              "            0.57037,     0.57117,     0.57082,     0.57158,     0.57187,     0.57152,     0.57188,     0.57055,     0.57084,     0.57123,     0.57139,     0.57088,     0.57069,     0.57106,     0.56997,     0.56947,     0.56907,     0.56852,     0.56888,     0.56878,     0.56825,     0.56827,     0.56819,\n",
              "            0.56847,     0.56872,     0.56799,     0.56735,     0.56586,     0.56588,     0.56627,     0.56594,     0.56525,     0.56289,      0.5624,      0.5626,     0.56247,     0.56284,     0.56214,      0.5614,     0.56162,     0.56181,     0.56078,      0.5605,     0.55953,     0.55833,     0.55837,\n",
              "            0.55792,     0.55797,     0.55781,      0.5574,     0.55748,     0.55677,     0.55616,     0.55616,     0.55521,     0.55467,     0.55541,     0.55528,     0.55503,     0.55529,     0.55564,      0.5555,     0.55389,     0.55311,     0.55217,     0.55229,     0.55153,     0.55195,     0.55166,\n",
              "            0.55122,      0.5505,     0.54917,     0.54857,     0.54753,     0.54765,     0.54714,     0.54614,     0.54668,     0.54648,     0.54633,     0.54553,     0.54582,     0.54509,     0.54464,     0.54493,     0.54408,     0.54416,     0.54376,     0.54321,     0.54252,     0.54148,     0.54035,\n",
              "            0.53999,      0.5391,     0.53813,     0.53751,     0.53563,     0.53442,     0.53408,     0.53346,     0.53197,     0.53211,     0.53139,     0.53156,     0.53146,     0.53101,     0.53032,     0.52945,     0.52919,     0.52791,     0.52763,     0.52625,       0.526,      0.5255,     0.52331,\n",
              "             0.5237,     0.52431,     0.52353,      0.5233,     0.52309,     0.52291,     0.52283,      0.5217,     0.52113,     0.51865,     0.51816,     0.51793,     0.51782,     0.51722,     0.51663,     0.51652,     0.51537,     0.51543,      0.5149,     0.51416,     0.51304,     0.51244,     0.51253,\n",
              "            0.51036,     0.50894,     0.50755,     0.50579,     0.50514,     0.50527,      0.5049,       0.503,     0.50213,      0.5006,      0.5004,     0.49963,     0.49977,     0.50015,     0.50017,      0.4999,      0.4985,     0.49863,     0.49745,     0.49641,     0.49511,      0.4944,     0.49318,\n",
              "            0.49287,     0.49237,     0.49209,      0.4913,     0.48974,      0.4897,     0.48985,     0.48841,      0.4884,     0.48853,     0.48778,     0.48761,     0.48668,     0.48416,     0.48376,     0.48149,     0.48053,     0.48017,     0.47965,     0.47889,     0.47843,     0.47829,     0.47693,\n",
              "            0.47624,     0.47486,     0.47366,     0.47226,     0.47254,     0.47145,     0.47013,     0.46964,     0.46854,     0.46892,     0.46864,     0.46809,     0.46788,     0.46709,     0.46544,      0.4646,     0.46438,     0.46359,     0.46266,     0.46245,       0.462,     0.46196,     0.46218,\n",
              "            0.46202,     0.46181,     0.46051,     0.46068,     0.45967,     0.45757,     0.45584,     0.45646,     0.45531,     0.45537,     0.45497,     0.45382,     0.45267,     0.45258,     0.45247,     0.45211,     0.45165,     0.45143,     0.44983,     0.44896,     0.44897,     0.44834,     0.44804,\n",
              "            0.44782,     0.44698,     0.44512,     0.44468,     0.44424,     0.44349,     0.44145,     0.44061,     0.44024,     0.43987,     0.43868,     0.43824,     0.43833,      0.4379,      0.4377,     0.43764,      0.4373,     0.43572,     0.43509,     0.43414,      0.4333,     0.43297,     0.43252,\n",
              "            0.43043,      0.4288,     0.42832,     0.42787,     0.42672,     0.42539,     0.42516,     0.42475,     0.42463,     0.42373,     0.42322,      0.4229,     0.42314,      0.4235,     0.42399,     0.42287,     0.42241,     0.42098,     0.42066,     0.41914,     0.41889,     0.41913,     0.41893,\n",
              "            0.41756,     0.41712,     0.41725,     0.41715,     0.41642,     0.41415,     0.41368,     0.41179,      0.4107,     0.40943,     0.40791,     0.40757,     0.40654,     0.40621,     0.40598,     0.40431,     0.40391,      0.4036,     0.40278,     0.40184,      0.4009,     0.40091,     0.40006,\n",
              "             0.4001,     0.39969,     0.39929,     0.39895,      0.3986,     0.39708,     0.39658,     0.39588,     0.39504,     0.39489,     0.39495,     0.39372,     0.39323,     0.39303,     0.39279,     0.39201,     0.39093,     0.38997,     0.38949,     0.38868,     0.38732,     0.38709,     0.38656,\n",
              "             0.3856,     0.38511,      0.3838,     0.38386,     0.38122,     0.38084,     0.38034,     0.37911,     0.37865,     0.37737,     0.37748,      0.3766,     0.37465,     0.37426,     0.37252,     0.37185,     0.37175,     0.37076,     0.37016,     0.36815,     0.36765,     0.36616,     0.36517,\n",
              "            0.36523,     0.36441,     0.36446,     0.36409,     0.36375,     0.36292,     0.36184,     0.36103,     0.36013,     0.35842,     0.35705,      0.3559,     0.35349,     0.35319,     0.35291,     0.35136,     0.35117,     0.35029,     0.34988,     0.34857,     0.34831,     0.34753,     0.34594,\n",
              "            0.34548,     0.34522,     0.34469,     0.34346,     0.34163,     0.34098,     0.34062,     0.33906,     0.33873,     0.33898,     0.33911,     0.33942,     0.33912,     0.33768,     0.33496,     0.33419,     0.33424,     0.33399,     0.33267,     0.33214,     0.33161,     0.33064,     0.33015,\n",
              "            0.32979,     0.32931,     0.32877,     0.32693,      0.3267,     0.32636,     0.32631,     0.32595,     0.32385,     0.32226,     0.32093,     0.31985,     0.31962,     0.31649,     0.31603,     0.31549,     0.31489,     0.31369,     0.31261,     0.31142,     0.30866,     0.30811,     0.30591,\n",
              "            0.30552,     0.30536,      0.3052,     0.30437,     0.30382,     0.30305,     0.30052,     0.30024,     0.29725,      0.2956,     0.29422,     0.29311,     0.29197,     0.29007,     0.28951,     0.28646,       0.286,     0.28606,     0.28476,     0.28364,     0.28113,     0.28056,     0.27935,\n",
              "            0.27812,     0.27587,     0.27398,     0.27317,     0.27199,     0.26979,     0.26942,     0.26781,     0.26525,     0.26411,     0.26372,     0.26265,     0.26219,     0.26111,     0.26033,     0.25841,     0.25672,     0.25633,     0.25349,     0.25256,     0.25227,      0.2514,      0.2511,\n",
              "             0.2486,     0.24821,     0.24674,     0.24508,     0.24343,       0.243,     0.24097,     0.23979,     0.23655,     0.23587,     0.23412,     0.23388,     0.23284,     0.23148,     0.22999,     0.22922,     0.22251,     0.22055,     0.22025,     0.21968,     0.21739,     0.21672,      0.2128,\n",
              "            0.21068,     0.20965,     0.20913,     0.20639,      0.2051,     0.20271,       0.202,     0.19993,     0.19409,     0.19332,     0.19221,     0.18894,     0.18754,     0.18583,      0.1845,     0.17971,     0.17883,     0.17687,     0.17317,     0.17249,     0.17058,     0.16929,     0.16834,\n",
              "            0.16733,     0.16577,     0.16419,     0.16376,      0.1602,     0.15933,     0.15776,     0.15733,      0.1543,     0.15285,     0.15166,     0.14895,     0.14513,     0.14373,     0.14181,     0.13946,     0.13879,     0.13681,     0.13514,      0.1325,     0.13047,     0.12779,     0.12632,\n",
              "            0.12574,     0.12382,     0.12301,     0.12032,     0.11945,     0.11624,     0.11506,     0.11349,     0.11009,     0.10761,     0.10665,     0.10254,     0.10153,    0.099825,    0.097059,    0.092925,    0.091502,    0.090206,    0.089325,    0.088972,    0.087704,    0.085902,    0.083967,\n",
              "           0.083493,    0.080238,     0.07811,    0.076677,    0.076008,    0.075207,    0.071662,     0.07085,    0.070097,    0.068374,     0.06661,    0.065159,    0.063721,    0.061573,    0.060082,    0.056572,    0.056083,    0.055191,     0.05353,    0.052141,    0.051846,    0.050114,    0.049819,\n",
              "           0.049523,     0.04907,    0.048245,    0.046061,    0.042404,    0.041585,    0.041069,    0.040116,    0.039349,    0.039134,    0.038921,    0.038708,    0.038184,    0.036254,    0.034756,    0.032523,    0.031531,    0.030362,    0.030061,     0.02944,    0.027195,    0.026723,    0.026507,\n",
              "           0.026291,    0.025573,    0.025148,    0.024846,    0.023985,    0.022958,    0.022705,    0.022394,    0.021602,    0.021385,    0.021168,    0.020909,    0.020402,    0.018608,    0.017981,    0.017843,    0.017704,    0.017565,    0.017427,    0.017288,    0.016618,     0.01558,    0.015071,\n",
              "           0.014679,    0.014296,    0.014137,    0.013984,    0.013831,    0.013677,     0.01349,     0.01298,    0.012016,    0.011824,    0.011632,    0.011441,     0.01036,    0.009592,   0.0081838,   0.0077988,   0.0070213,   0.0065298,   0.0062213,   0.0057216,    0.005062,    0.004547,    0.003711,\n",
              "          0.0035704,   0.0034297,   0.0032891,   0.0031484,   0.0030039,   0.0028319,   0.0026599,   0.0024878,   0.0023158,   0.0017038,           0,           0,           0,           0,           0,           0,           0,           0,           0,           0,           0,           0,           0,\n",
              "                  0,           0,           0,           0,           0,           0,           0,           0,           0,           0,           0,           0,           0,           0,           0,           0,           0,           0,           0,           0,           0,           0,           0,\n",
              "                  0,           0,           0,           0,           0,           0,           0,           0,           0,           0,           0,           0,           0,           0,           0,           0,           0,           0,           0,           0,           0,           0,           0,\n",
              "                  0,           0,           0,           0,           0,           0,           0,           0,           0,           0,           0]]), 'Confidence', 'F1'], [array([          0,    0.001001,    0.002002,    0.003003,    0.004004,    0.005005,    0.006006,    0.007007,    0.008008,    0.009009,     0.01001,    0.011011,    0.012012,    0.013013,    0.014014,    0.015015,    0.016016,    0.017017,    0.018018,    0.019019,     0.02002,    0.021021,    0.022022,    0.023023,\n",
              "          0.024024,    0.025025,    0.026026,    0.027027,    0.028028,    0.029029,     0.03003,    0.031031,    0.032032,    0.033033,    0.034034,    0.035035,    0.036036,    0.037037,    0.038038,    0.039039,     0.04004,    0.041041,    0.042042,    0.043043,    0.044044,    0.045045,    0.046046,    0.047047,\n",
              "          0.048048,    0.049049,     0.05005,    0.051051,    0.052052,    0.053053,    0.054054,    0.055055,    0.056056,    0.057057,    0.058058,    0.059059,     0.06006,    0.061061,    0.062062,    0.063063,    0.064064,    0.065065,    0.066066,    0.067067,    0.068068,    0.069069,     0.07007,    0.071071,\n",
              "          0.072072,    0.073073,    0.074074,    0.075075,    0.076076,    0.077077,    0.078078,    0.079079,     0.08008,    0.081081,    0.082082,    0.083083,    0.084084,    0.085085,    0.086086,    0.087087,    0.088088,    0.089089,     0.09009,    0.091091,    0.092092,    0.093093,    0.094094,    0.095095,\n",
              "          0.096096,    0.097097,    0.098098,    0.099099,      0.1001,      0.1011,      0.1021,      0.1031,      0.1041,     0.10511,     0.10611,     0.10711,     0.10811,     0.10911,     0.11011,     0.11111,     0.11211,     0.11311,     0.11411,     0.11512,     0.11612,     0.11712,     0.11812,     0.11912,\n",
              "           0.12012,     0.12112,     0.12212,     0.12312,     0.12412,     0.12513,     0.12613,     0.12713,     0.12813,     0.12913,     0.13013,     0.13113,     0.13213,     0.13313,     0.13413,     0.13514,     0.13614,     0.13714,     0.13814,     0.13914,     0.14014,     0.14114,     0.14214,     0.14314,\n",
              "           0.14414,     0.14515,     0.14615,     0.14715,     0.14815,     0.14915,     0.15015,     0.15115,     0.15215,     0.15315,     0.15415,     0.15516,     0.15616,     0.15716,     0.15816,     0.15916,     0.16016,     0.16116,     0.16216,     0.16316,     0.16416,     0.16517,     0.16617,     0.16717,\n",
              "           0.16817,     0.16917,     0.17017,     0.17117,     0.17217,     0.17317,     0.17417,     0.17518,     0.17618,     0.17718,     0.17818,     0.17918,     0.18018,     0.18118,     0.18218,     0.18318,     0.18418,     0.18519,     0.18619,     0.18719,     0.18819,     0.18919,     0.19019,     0.19119,\n",
              "           0.19219,     0.19319,     0.19419,      0.1952,      0.1962,      0.1972,      0.1982,      0.1992,      0.2002,      0.2012,      0.2022,      0.2032,      0.2042,     0.20521,     0.20621,     0.20721,     0.20821,     0.20921,     0.21021,     0.21121,     0.21221,     0.21321,     0.21421,     0.21522,\n",
              "           0.21622,     0.21722,     0.21822,     0.21922,     0.22022,     0.22122,     0.22222,     0.22322,     0.22422,     0.22523,     0.22623,     0.22723,     0.22823,     0.22923,     0.23023,     0.23123,     0.23223,     0.23323,     0.23423,     0.23524,     0.23624,     0.23724,     0.23824,     0.23924,\n",
              "           0.24024,     0.24124,     0.24224,     0.24324,     0.24424,     0.24525,     0.24625,     0.24725,     0.24825,     0.24925,     0.25025,     0.25125,     0.25225,     0.25325,     0.25425,     0.25526,     0.25626,     0.25726,     0.25826,     0.25926,     0.26026,     0.26126,     0.26226,     0.26326,\n",
              "           0.26426,     0.26527,     0.26627,     0.26727,     0.26827,     0.26927,     0.27027,     0.27127,     0.27227,     0.27327,     0.27427,     0.27528,     0.27628,     0.27728,     0.27828,     0.27928,     0.28028,     0.28128,     0.28228,     0.28328,     0.28428,     0.28529,     0.28629,     0.28729,\n",
              "           0.28829,     0.28929,     0.29029,     0.29129,     0.29229,     0.29329,     0.29429,      0.2953,      0.2963,      0.2973,      0.2983,      0.2993,      0.3003,      0.3013,      0.3023,      0.3033,      0.3043,     0.30531,     0.30631,     0.30731,     0.30831,     0.30931,     0.31031,     0.31131,\n",
              "           0.31231,     0.31331,     0.31431,     0.31532,     0.31632,     0.31732,     0.31832,     0.31932,     0.32032,     0.32132,     0.32232,     0.32332,     0.32432,     0.32533,     0.32633,     0.32733,     0.32833,     0.32933,     0.33033,     0.33133,     0.33233,     0.33333,     0.33433,     0.33534,\n",
              "           0.33634,     0.33734,     0.33834,     0.33934,     0.34034,     0.34134,     0.34234,     0.34334,     0.34434,     0.34535,     0.34635,     0.34735,     0.34835,     0.34935,     0.35035,     0.35135,     0.35235,     0.35335,     0.35435,     0.35536,     0.35636,     0.35736,     0.35836,     0.35936,\n",
              "           0.36036,     0.36136,     0.36236,     0.36336,     0.36436,     0.36537,     0.36637,     0.36737,     0.36837,     0.36937,     0.37037,     0.37137,     0.37237,     0.37337,     0.37437,     0.37538,     0.37638,     0.37738,     0.37838,     0.37938,     0.38038,     0.38138,     0.38238,     0.38338,\n",
              "           0.38438,     0.38539,     0.38639,     0.38739,     0.38839,     0.38939,     0.39039,     0.39139,     0.39239,     0.39339,     0.39439,      0.3954,      0.3964,      0.3974,      0.3984,      0.3994,      0.4004,      0.4014,      0.4024,      0.4034,      0.4044,     0.40541,     0.40641,     0.40741,\n",
              "           0.40841,     0.40941,     0.41041,     0.41141,     0.41241,     0.41341,     0.41441,     0.41542,     0.41642,     0.41742,     0.41842,     0.41942,     0.42042,     0.42142,     0.42242,     0.42342,     0.42442,     0.42543,     0.42643,     0.42743,     0.42843,     0.42943,     0.43043,     0.43143,\n",
              "           0.43243,     0.43343,     0.43443,     0.43544,     0.43644,     0.43744,     0.43844,     0.43944,     0.44044,     0.44144,     0.44244,     0.44344,     0.44444,     0.44545,     0.44645,     0.44745,     0.44845,     0.44945,     0.45045,     0.45145,     0.45245,     0.45345,     0.45445,     0.45546,\n",
              "           0.45646,     0.45746,     0.45846,     0.45946,     0.46046,     0.46146,     0.46246,     0.46346,     0.46446,     0.46547,     0.46647,     0.46747,     0.46847,     0.46947,     0.47047,     0.47147,     0.47247,     0.47347,     0.47447,     0.47548,     0.47648,     0.47748,     0.47848,     0.47948,\n",
              "           0.48048,     0.48148,     0.48248,     0.48348,     0.48448,     0.48549,     0.48649,     0.48749,     0.48849,     0.48949,     0.49049,     0.49149,     0.49249,     0.49349,     0.49449,      0.4955,      0.4965,      0.4975,      0.4985,      0.4995,      0.5005,      0.5015,      0.5025,      0.5035,\n",
              "            0.5045,     0.50551,     0.50651,     0.50751,     0.50851,     0.50951,     0.51051,     0.51151,     0.51251,     0.51351,     0.51451,     0.51552,     0.51652,     0.51752,     0.51852,     0.51952,     0.52052,     0.52152,     0.52252,     0.52352,     0.52452,     0.52553,     0.52653,     0.52753,\n",
              "           0.52853,     0.52953,     0.53053,     0.53153,     0.53253,     0.53353,     0.53453,     0.53554,     0.53654,     0.53754,     0.53854,     0.53954,     0.54054,     0.54154,     0.54254,     0.54354,     0.54454,     0.54555,     0.54655,     0.54755,     0.54855,     0.54955,     0.55055,     0.55155,\n",
              "           0.55255,     0.55355,     0.55455,     0.55556,     0.55656,     0.55756,     0.55856,     0.55956,     0.56056,     0.56156,     0.56256,     0.56356,     0.56456,     0.56557,     0.56657,     0.56757,     0.56857,     0.56957,     0.57057,     0.57157,     0.57257,     0.57357,     0.57457,     0.57558,\n",
              "           0.57658,     0.57758,     0.57858,     0.57958,     0.58058,     0.58158,     0.58258,     0.58358,     0.58458,     0.58559,     0.58659,     0.58759,     0.58859,     0.58959,     0.59059,     0.59159,     0.59259,     0.59359,     0.59459,      0.5956,      0.5966,      0.5976,      0.5986,      0.5996,\n",
              "            0.6006,      0.6016,      0.6026,      0.6036,      0.6046,     0.60561,     0.60661,     0.60761,     0.60861,     0.60961,     0.61061,     0.61161,     0.61261,     0.61361,     0.61461,     0.61562,     0.61662,     0.61762,     0.61862,     0.61962,     0.62062,     0.62162,     0.62262,     0.62362,\n",
              "           0.62462,     0.62563,     0.62663,     0.62763,     0.62863,     0.62963,     0.63063,     0.63163,     0.63263,     0.63363,     0.63463,     0.63564,     0.63664,     0.63764,     0.63864,     0.63964,     0.64064,     0.64164,     0.64264,     0.64364,     0.64464,     0.64565,     0.64665,     0.64765,\n",
              "           0.64865,     0.64965,     0.65065,     0.65165,     0.65265,     0.65365,     0.65465,     0.65566,     0.65666,     0.65766,     0.65866,     0.65966,     0.66066,     0.66166,     0.66266,     0.66366,     0.66466,     0.66567,     0.66667,     0.66767,     0.66867,     0.66967,     0.67067,     0.67167,\n",
              "           0.67267,     0.67367,     0.67467,     0.67568,     0.67668,     0.67768,     0.67868,     0.67968,     0.68068,     0.68168,     0.68268,     0.68368,     0.68468,     0.68569,     0.68669,     0.68769,     0.68869,     0.68969,     0.69069,     0.69169,     0.69269,     0.69369,     0.69469,      0.6957,\n",
              "            0.6967,      0.6977,      0.6987,      0.6997,      0.7007,      0.7017,      0.7027,      0.7037,      0.7047,     0.70571,     0.70671,     0.70771,     0.70871,     0.70971,     0.71071,     0.71171,     0.71271,     0.71371,     0.71471,     0.71572,     0.71672,     0.71772,     0.71872,     0.71972,\n",
              "           0.72072,     0.72172,     0.72272,     0.72372,     0.72472,     0.72573,     0.72673,     0.72773,     0.72873,     0.72973,     0.73073,     0.73173,     0.73273,     0.73373,     0.73473,     0.73574,     0.73674,     0.73774,     0.73874,     0.73974,     0.74074,     0.74174,     0.74274,     0.74374,\n",
              "           0.74474,     0.74575,     0.74675,     0.74775,     0.74875,     0.74975,     0.75075,     0.75175,     0.75275,     0.75375,     0.75475,     0.75576,     0.75676,     0.75776,     0.75876,     0.75976,     0.76076,     0.76176,     0.76276,     0.76376,     0.76476,     0.76577,     0.76677,     0.76777,\n",
              "           0.76877,     0.76977,     0.77077,     0.77177,     0.77277,     0.77377,     0.77477,     0.77578,     0.77678,     0.77778,     0.77878,     0.77978,     0.78078,     0.78178,     0.78278,     0.78378,     0.78478,     0.78579,     0.78679,     0.78779,     0.78879,     0.78979,     0.79079,     0.79179,\n",
              "           0.79279,     0.79379,     0.79479,      0.7958,      0.7968,      0.7978,      0.7988,      0.7998,      0.8008,      0.8018,      0.8028,      0.8038,      0.8048,     0.80581,     0.80681,     0.80781,     0.80881,     0.80981,     0.81081,     0.81181,     0.81281,     0.81381,     0.81481,     0.81582,\n",
              "           0.81682,     0.81782,     0.81882,     0.81982,     0.82082,     0.82182,     0.82282,     0.82382,     0.82482,     0.82583,     0.82683,     0.82783,     0.82883,     0.82983,     0.83083,     0.83183,     0.83283,     0.83383,     0.83483,     0.83584,     0.83684,     0.83784,     0.83884,     0.83984,\n",
              "           0.84084,     0.84184,     0.84284,     0.84384,     0.84484,     0.84585,     0.84685,     0.84785,     0.84885,     0.84985,     0.85085,     0.85185,     0.85285,     0.85385,     0.85485,     0.85586,     0.85686,     0.85786,     0.85886,     0.85986,     0.86086,     0.86186,     0.86286,     0.86386,\n",
              "           0.86486,     0.86587,     0.86687,     0.86787,     0.86887,     0.86987,     0.87087,     0.87187,     0.87287,     0.87387,     0.87487,     0.87588,     0.87688,     0.87788,     0.87888,     0.87988,     0.88088,     0.88188,     0.88288,     0.88388,     0.88488,     0.88589,     0.88689,     0.88789,\n",
              "           0.88889,     0.88989,     0.89089,     0.89189,     0.89289,     0.89389,     0.89489,      0.8959,      0.8969,      0.8979,      0.8989,      0.8999,      0.9009,      0.9019,      0.9029,      0.9039,      0.9049,     0.90591,     0.90691,     0.90791,     0.90891,     0.90991,     0.91091,     0.91191,\n",
              "           0.91291,     0.91391,     0.91491,     0.91592,     0.91692,     0.91792,     0.91892,     0.91992,     0.92092,     0.92192,     0.92292,     0.92392,     0.92492,     0.92593,     0.92693,     0.92793,     0.92893,     0.92993,     0.93093,     0.93193,     0.93293,     0.93393,     0.93493,     0.93594,\n",
              "           0.93694,     0.93794,     0.93894,     0.93994,     0.94094,     0.94194,     0.94294,     0.94394,     0.94494,     0.94595,     0.94695,     0.94795,     0.94895,     0.94995,     0.95095,     0.95195,     0.95295,     0.95395,     0.95495,     0.95596,     0.95696,     0.95796,     0.95896,     0.95996,\n",
              "           0.96096,     0.96196,     0.96296,     0.96396,     0.96496,     0.96597,     0.96697,     0.96797,     0.96897,     0.96997,     0.97097,     0.97197,     0.97297,     0.97397,     0.97497,     0.97598,     0.97698,     0.97798,     0.97898,     0.97998,     0.98098,     0.98198,     0.98298,     0.98398,\n",
              "           0.98498,     0.98599,     0.98699,     0.98799,     0.98899,     0.98999,     0.99099,     0.99199,     0.99299,     0.99399,     0.99499,       0.996,       0.997,       0.998,       0.999,           1]), array([[   0.038522,    0.038522,    0.053161,    0.064548,    0.074192,    0.082624,    0.090592,    0.097607,     0.10433,     0.11062,     0.11649,     0.12169,     0.12688,     0.13236,     0.13775,     0.14246,     0.14691,     0.15135,     0.15533,     0.15981,     0.16438,     0.16849,     0.17281,\n",
              "             0.1763,     0.18029,     0.18438,     0.18808,      0.1921,     0.19574,     0.19893,     0.20273,     0.20635,     0.20941,     0.21277,     0.21642,     0.21937,     0.22301,     0.22635,     0.22968,     0.23191,     0.23523,     0.23862,     0.24127,     0.24379,      0.2466,     0.24935,\n",
              "            0.25228,     0.25454,     0.25772,     0.26067,     0.26292,     0.26565,     0.26845,     0.27106,     0.27353,     0.27623,     0.27934,      0.2814,     0.28439,     0.28721,     0.28998,     0.29225,     0.29512,     0.29833,     0.30105,      0.3035,     0.30587,      0.3088,     0.31175,\n",
              "            0.31391,      0.3167,     0.31844,      0.3204,     0.32245,     0.32466,     0.32673,     0.32869,     0.33131,     0.33345,     0.33534,     0.33788,     0.34002,     0.34185,     0.34416,     0.34626,      0.3479,     0.34998,     0.35238,      0.3544,     0.35586,     0.35863,     0.36062,\n",
              "            0.36233,     0.36392,     0.36651,     0.36867,     0.37047,     0.37222,      0.3733,     0.37559,     0.37799,     0.38001,     0.38232,     0.38541,     0.38687,     0.38946,     0.39226,     0.39437,      0.3961,     0.39811,     0.40035,     0.40192,     0.40378,       0.406,     0.40739,\n",
              "            0.40797,     0.41068,     0.41221,     0.41447,     0.41526,     0.41721,     0.41883,     0.42026,     0.42149,     0.42256,     0.42434,     0.42568,     0.42661,     0.42866,     0.42961,     0.43157,      0.4329,     0.43493,     0.43616,     0.43856,     0.44036,     0.44354,     0.44466,\n",
              "            0.44603,       0.448,     0.44933,     0.45047,     0.45255,     0.45457,     0.45645,     0.45903,     0.46034,     0.46253,     0.46359,     0.46463,     0.46612,     0.46755,     0.46849,     0.46989,     0.47089,     0.47303,     0.47406,     0.47567,     0.47654,     0.47757,     0.47915,\n",
              "             0.4814,     0.48223,     0.48333,     0.48523,      0.4868,     0.48784,     0.48892,     0.49071,      0.4919,     0.49392,     0.49501,     0.49638,     0.49693,     0.49885,     0.49945,     0.50109,     0.50227,     0.50508,     0.50662,     0.50838,     0.50894,     0.51132,     0.51218,\n",
              "            0.51373,     0.51537,     0.51591,     0.51664,     0.51773,     0.51892,     0.52079,     0.52173,     0.52246,      0.5247,     0.52554,     0.52713,      0.5282,     0.52922,     0.53081,     0.53128,     0.53338,     0.53531,     0.53587,      0.5374,     0.53786,     0.53885,     0.54064,\n",
              "            0.54328,     0.54445,     0.54611,     0.54691,     0.54781,     0.54916,     0.55072,     0.55291,     0.55423,       0.555,     0.55545,     0.55763,     0.55863,     0.56005,     0.56023,     0.56107,     0.56147,     0.56484,     0.56536,     0.56762,     0.56859,      0.5702,     0.57101,\n",
              "            0.57242,      0.5739,     0.57417,     0.57561,     0.57656,      0.5774,     0.57818,     0.57777,     0.57887,     0.57972,     0.58026,      0.5815,      0.5836,     0.58448,     0.58526,     0.58691,     0.58827,     0.58861,     0.59118,     0.59177,     0.59584,     0.59742,     0.59818,\n",
              "            0.60028,     0.60113,     0.60206,     0.60474,     0.60511,     0.60668,     0.60911,     0.60943,     0.61118,     0.61225,     0.61308,     0.61383,     0.61747,     0.61795,     0.61936,      0.6217,     0.62198,     0.62261,     0.62428,     0.62646,     0.62734,      0.6275,     0.62963,\n",
              "            0.63171,      0.6337,     0.63453,     0.63641,     0.63826,     0.63855,     0.64066,     0.64077,      0.6421,     0.64308,     0.64589,     0.64638,     0.64773,     0.64928,     0.65017,     0.65073,     0.65141,     0.65202,     0.65361,     0.65463,     0.65514,     0.65649,     0.65755,\n",
              "            0.65965,     0.66165,     0.66167,     0.66182,     0.66264,     0.66407,     0.66514,     0.66536,     0.66577,     0.66622,     0.66626,     0.66754,      0.6686,     0.67037,     0.67055,     0.67136,      0.6731,     0.67474,     0.67551,     0.67774,     0.67813,     0.67748,     0.67916,\n",
              "            0.68014,      0.6811,     0.68298,     0.68458,       0.686,     0.68674,     0.68686,     0.68768,     0.68973,     0.69058,     0.69286,     0.69415,     0.69508,      0.6959,     0.69778,     0.69917,     0.69955,     0.69947,     0.70001,     0.70128,     0.70138,     0.70297,     0.70386,\n",
              "            0.70433,      0.7055,     0.70536,     0.70565,     0.70663,     0.70922,     0.71039,     0.70991,     0.71174,     0.71201,     0.71346,     0.71435,     0.71636,     0.71712,     0.71763,      0.7197,     0.71975,     0.72108,     0.72218,     0.72292,      0.7239,     0.72376,     0.72319,\n",
              "            0.72301,     0.72412,     0.72494,     0.72596,     0.72571,     0.72619,     0.72667,     0.72663,     0.72671,     0.72831,     0.72794,     0.73094,     0.73174,     0.73151,     0.73243,     0.73228,     0.73244,     0.73347,     0.73479,     0.73511,     0.73573,     0.73625,     0.73627,\n",
              "            0.73782,     0.74032,      0.7409,     0.74127,     0.74169,     0.74278,     0.74451,     0.74631,     0.74603,     0.74576,     0.74774,     0.74811,     0.74902,     0.75023,     0.75084,     0.75176,     0.75269,     0.75467,     0.75638,     0.75714,     0.75697,     0.75683,     0.75772,\n",
              "            0.75717,     0.75698,     0.75682,     0.75647,     0.75702,     0.75915,     0.76014,     0.76078,     0.76183,     0.76277,     0.76326,     0.76451,     0.76512,     0.76693,     0.76739,     0.76738,     0.76727,     0.76953,     0.76936,     0.76941,      0.7699,     0.77012,     0.76954,\n",
              "            0.77202,     0.77252,     0.77337,     0.77429,     0.77573,     0.77699,     0.77988,     0.77981,     0.78159,     0.78226,     0.78197,     0.78306,     0.78384,      0.7839,     0.78371,     0.78327,     0.78405,     0.78581,     0.78696,     0.78762,     0.78831,     0.79049,     0.79114,\n",
              "            0.79146,     0.79212,     0.79258,     0.79223,     0.79471,     0.79489,     0.79519,     0.79741,      0.7976,     0.79981,     0.80037,     0.80029,      0.8002,     0.79985,      0.7991,     0.79873,     0.79993,     0.79964,     0.79991,     0.79981,     0.80169,     0.80378,     0.80526,\n",
              "             0.8066,      0.8065,     0.80674,     0.80814,     0.80913,     0.80821,     0.80907,     0.81301,     0.81316,     0.81357,     0.81439,     0.81464,     0.81489,     0.81591,     0.81631,     0.81802,     0.81823,     0.81814,     0.81745,     0.81708,      0.8183,     0.81834,     0.81821,\n",
              "            0.81812,     0.81829,     0.81851,     0.81832,     0.81813,     0.81859,      0.8185,     0.81879,     0.82183,     0.82178,     0.82208,     0.82189,      0.8227,     0.82255,     0.82408,     0.82653,     0.82718,     0.82741,     0.82882,     0.83096,     0.83133,     0.83204,     0.83186,\n",
              "            0.83184,     0.83139,     0.83182,     0.83164,     0.83145,     0.83146,     0.83137,     0.83242,     0.83288,     0.83251,      0.8336,     0.83437,     0.83626,      0.8391,      0.8429,     0.84283,     0.84265,     0.84268,     0.84349,     0.84409,     0.84652,      0.8485,     0.84957,\n",
              "            0.84905,     0.84967,     0.85068,     0.85352,      0.8543,     0.85537,      0.8552,     0.85594,     0.85603,     0.85653,     0.85652,     0.85741,     0.85843,     0.85831,     0.85822,      0.8586,     0.86019,     0.86037,     0.86108,     0.86073,     0.86038,     0.86125,      0.8611,\n",
              "            0.86204,       0.862,     0.86283,     0.86377,     0.86472,     0.86522,     0.86716,     0.86691,     0.86768,     0.86795,     0.86852,     0.86827,      0.8681,     0.86911,     0.86902,     0.86983,     0.87274,      0.8724,     0.87223,     0.87402,     0.87369,     0.87473,     0.87794,\n",
              "            0.87761,     0.87744,     0.88074,     0.88136,     0.88073,     0.88177,     0.88351,     0.88355,     0.88538,     0.88679,     0.88807,     0.88995,     0.88932,     0.89042,     0.89235,     0.89381,     0.89461,      0.8943,     0.89537,     0.89475,     0.89459,     0.89412,     0.89382,\n",
              "            0.89449,     0.89619,     0.89687,     0.89865,     0.89854,      0.8996,     0.90018,     0.90034,      0.9014,     0.90597,     0.90589,     0.90693,     0.90762,     0.91033,      0.9108,     0.91264,     0.91384,      0.9152,     0.91652,     0.91909,     0.91903,     0.91882,     0.91841,\n",
              "            0.91976,      0.9197,     0.92055,     0.92223,     0.92327,       0.925,     0.92914,     0.92878,     0.92919,     0.93294,     0.93483,     0.93969,     0.94287,     0.94425,     0.94547,     0.94574,     0.94659,     0.94695,     0.94671,     0.94661,     0.94651,     0.94657,     0.94792,\n",
              "            0.94786,     0.94777,     0.94768,     0.94734,     0.95244,     0.95293,     0.95411,     0.95405,     0.95371,     0.95345,     0.95323,     0.95305,     0.95389,     0.95432,     0.95602,     0.95593,     0.95584,     0.95748,     0.95731,     0.95836,     0.95856,     0.95848,     0.96004,\n",
              "            0.95998,     0.95996,     0.95994,     0.95981,     0.95973,     0.95961,     0.95923,     0.95919,     0.95872,     0.95846,     0.95824,     0.95807,     0.95788,     0.95757,     0.95748,     0.95698,     0.95713,     0.95854,      0.9629,     0.96274,     0.96237,     0.96228,     0.96423,\n",
              "            0.96406,     0.96373,     0.96564,     0.96553,     0.96536,     0.96722,     0.96724,     0.96702,     0.96666,      0.9665,     0.96645,      0.9663,     0.96623,     0.96607,     0.96596,     0.96804,     0.96781,     0.96775,     0.96735,     0.96722,     0.96718,     0.96705,     0.96701,\n",
              "            0.96664,     0.96658,     0.96886,     0.96863,     0.96839,     0.96833,     0.96804,     0.96786,     0.96738,     0.96728,     0.96701,     0.96697,     0.96681,      0.9666,     0.96636,     0.96624,     0.96742,     0.97046,     0.97042,     0.97291,      0.9729,     0.97281,     0.97227,\n",
              "            0.97196,     0.97182,     0.97174,     0.97133,     0.97114,     0.97077,     0.97066,     0.97033,     0.96937,     0.96924,     0.96905,     0.96847,     0.96822,     0.96791,     0.96766,     0.96674,     0.96657,     0.96952,     0.96913,       0.969,     0.96863,     0.96837,     0.96819,\n",
              "            0.96798,     0.96766,     0.96734,     0.96724,     0.96648,     0.96629,     0.96594,     0.96584,     0.96514,     0.96479,      0.9645,     0.96383,     0.96284,     0.96246,     0.96193,     0.96127,     0.96108,     0.96049,     0.95999,     0.95917,     0.95852,     0.95763,     0.95712,\n",
              "            0.95692,     0.95624,     0.95595,     0.95494,     0.95461,     0.95334,     0.95286,      0.9522,     0.95071,     0.94957,     0.94911,     0.94708,     0.95934,     0.95864,     0.95745,     0.95555,     0.95486,     0.95839,     0.96115,     0.96099,     0.96043,     0.97534,     0.97476,\n",
              "            0.97462,     0.97357,     0.97284,     0.97233,     0.97208,     0.97178,     0.97037,     0.97003,     0.97881,     0.97907,     0.97851,     0.97802,     0.97752,     0.97673,     0.97615,     0.97466,     0.97444,      0.9759,     0.98642,     0.98606,     0.98598,     0.98549,      0.9854,\n",
              "            0.98531,     0.98517,     0.98492,           1,           1,           1,           1,           1,           1,           1,           1,           1,           1,           1,           1,           1,           1,           1,           1,           1,           1,           1,           1,\n",
              "                  1,           1,           1,           1,           1,           1,           1,           1,           1,           1,           1,           1,           1,           1,           1,           1,           1,           1,           1,           1,           1,           1,           1,\n",
              "                  1,           1,           1,           1,           1,           1,           1,           1,           1,           1,           1,           1,           1,           1,           1,           1,           1,           1,           1,           1,           1,           1,           1,\n",
              "                  1,           1,           1,           1,           1,           1,           1,           1,           1,           1,           1,           1,           1,           1,           1,           1,           1,           1,           1,           1,           1,           1,           1,\n",
              "                  1,           1,           1,           1,           1,           1,           1,           1,           1,           1,           1,           1,           1,           1,           1,           1,           1,           1,           1,           1,           1,           1,           1,\n",
              "                  1,           1,           1,           1,           1,           1,           1,           1,           1,           1,           1,           1,           1,           1,           1,           1,           1,           1,           1,           1,           1,           1,           1,\n",
              "                  1,           1,           1,           1,           1,           1,           1,           1,           1,           1,           1]]), 'Confidence', 'Precision'], [array([          0,    0.001001,    0.002002,    0.003003,    0.004004,    0.005005,    0.006006,    0.007007,    0.008008,    0.009009,     0.01001,    0.011011,    0.012012,    0.013013,    0.014014,    0.015015,    0.016016,    0.017017,    0.018018,    0.019019,     0.02002,    0.021021,    0.022022,    0.023023,\n",
              "          0.024024,    0.025025,    0.026026,    0.027027,    0.028028,    0.029029,     0.03003,    0.031031,    0.032032,    0.033033,    0.034034,    0.035035,    0.036036,    0.037037,    0.038038,    0.039039,     0.04004,    0.041041,    0.042042,    0.043043,    0.044044,    0.045045,    0.046046,    0.047047,\n",
              "          0.048048,    0.049049,     0.05005,    0.051051,    0.052052,    0.053053,    0.054054,    0.055055,    0.056056,    0.057057,    0.058058,    0.059059,     0.06006,    0.061061,    0.062062,    0.063063,    0.064064,    0.065065,    0.066066,    0.067067,    0.068068,    0.069069,     0.07007,    0.071071,\n",
              "          0.072072,    0.073073,    0.074074,    0.075075,    0.076076,    0.077077,    0.078078,    0.079079,     0.08008,    0.081081,    0.082082,    0.083083,    0.084084,    0.085085,    0.086086,    0.087087,    0.088088,    0.089089,     0.09009,    0.091091,    0.092092,    0.093093,    0.094094,    0.095095,\n",
              "          0.096096,    0.097097,    0.098098,    0.099099,      0.1001,      0.1011,      0.1021,      0.1031,      0.1041,     0.10511,     0.10611,     0.10711,     0.10811,     0.10911,     0.11011,     0.11111,     0.11211,     0.11311,     0.11411,     0.11512,     0.11612,     0.11712,     0.11812,     0.11912,\n",
              "           0.12012,     0.12112,     0.12212,     0.12312,     0.12412,     0.12513,     0.12613,     0.12713,     0.12813,     0.12913,     0.13013,     0.13113,     0.13213,     0.13313,     0.13413,     0.13514,     0.13614,     0.13714,     0.13814,     0.13914,     0.14014,     0.14114,     0.14214,     0.14314,\n",
              "           0.14414,     0.14515,     0.14615,     0.14715,     0.14815,     0.14915,     0.15015,     0.15115,     0.15215,     0.15315,     0.15415,     0.15516,     0.15616,     0.15716,     0.15816,     0.15916,     0.16016,     0.16116,     0.16216,     0.16316,     0.16416,     0.16517,     0.16617,     0.16717,\n",
              "           0.16817,     0.16917,     0.17017,     0.17117,     0.17217,     0.17317,     0.17417,     0.17518,     0.17618,     0.17718,     0.17818,     0.17918,     0.18018,     0.18118,     0.18218,     0.18318,     0.18418,     0.18519,     0.18619,     0.18719,     0.18819,     0.18919,     0.19019,     0.19119,\n",
              "           0.19219,     0.19319,     0.19419,      0.1952,      0.1962,      0.1972,      0.1982,      0.1992,      0.2002,      0.2012,      0.2022,      0.2032,      0.2042,     0.20521,     0.20621,     0.20721,     0.20821,     0.20921,     0.21021,     0.21121,     0.21221,     0.21321,     0.21421,     0.21522,\n",
              "           0.21622,     0.21722,     0.21822,     0.21922,     0.22022,     0.22122,     0.22222,     0.22322,     0.22422,     0.22523,     0.22623,     0.22723,     0.22823,     0.22923,     0.23023,     0.23123,     0.23223,     0.23323,     0.23423,     0.23524,     0.23624,     0.23724,     0.23824,     0.23924,\n",
              "           0.24024,     0.24124,     0.24224,     0.24324,     0.24424,     0.24525,     0.24625,     0.24725,     0.24825,     0.24925,     0.25025,     0.25125,     0.25225,     0.25325,     0.25425,     0.25526,     0.25626,     0.25726,     0.25826,     0.25926,     0.26026,     0.26126,     0.26226,     0.26326,\n",
              "           0.26426,     0.26527,     0.26627,     0.26727,     0.26827,     0.26927,     0.27027,     0.27127,     0.27227,     0.27327,     0.27427,     0.27528,     0.27628,     0.27728,     0.27828,     0.27928,     0.28028,     0.28128,     0.28228,     0.28328,     0.28428,     0.28529,     0.28629,     0.28729,\n",
              "           0.28829,     0.28929,     0.29029,     0.29129,     0.29229,     0.29329,     0.29429,      0.2953,      0.2963,      0.2973,      0.2983,      0.2993,      0.3003,      0.3013,      0.3023,      0.3033,      0.3043,     0.30531,     0.30631,     0.30731,     0.30831,     0.30931,     0.31031,     0.31131,\n",
              "           0.31231,     0.31331,     0.31431,     0.31532,     0.31632,     0.31732,     0.31832,     0.31932,     0.32032,     0.32132,     0.32232,     0.32332,     0.32432,     0.32533,     0.32633,     0.32733,     0.32833,     0.32933,     0.33033,     0.33133,     0.33233,     0.33333,     0.33433,     0.33534,\n",
              "           0.33634,     0.33734,     0.33834,     0.33934,     0.34034,     0.34134,     0.34234,     0.34334,     0.34434,     0.34535,     0.34635,     0.34735,     0.34835,     0.34935,     0.35035,     0.35135,     0.35235,     0.35335,     0.35435,     0.35536,     0.35636,     0.35736,     0.35836,     0.35936,\n",
              "           0.36036,     0.36136,     0.36236,     0.36336,     0.36436,     0.36537,     0.36637,     0.36737,     0.36837,     0.36937,     0.37037,     0.37137,     0.37237,     0.37337,     0.37437,     0.37538,     0.37638,     0.37738,     0.37838,     0.37938,     0.38038,     0.38138,     0.38238,     0.38338,\n",
              "           0.38438,     0.38539,     0.38639,     0.38739,     0.38839,     0.38939,     0.39039,     0.39139,     0.39239,     0.39339,     0.39439,      0.3954,      0.3964,      0.3974,      0.3984,      0.3994,      0.4004,      0.4014,      0.4024,      0.4034,      0.4044,     0.40541,     0.40641,     0.40741,\n",
              "           0.40841,     0.40941,     0.41041,     0.41141,     0.41241,     0.41341,     0.41441,     0.41542,     0.41642,     0.41742,     0.41842,     0.41942,     0.42042,     0.42142,     0.42242,     0.42342,     0.42442,     0.42543,     0.42643,     0.42743,     0.42843,     0.42943,     0.43043,     0.43143,\n",
              "           0.43243,     0.43343,     0.43443,     0.43544,     0.43644,     0.43744,     0.43844,     0.43944,     0.44044,     0.44144,     0.44244,     0.44344,     0.44444,     0.44545,     0.44645,     0.44745,     0.44845,     0.44945,     0.45045,     0.45145,     0.45245,     0.45345,     0.45445,     0.45546,\n",
              "           0.45646,     0.45746,     0.45846,     0.45946,     0.46046,     0.46146,     0.46246,     0.46346,     0.46446,     0.46547,     0.46647,     0.46747,     0.46847,     0.46947,     0.47047,     0.47147,     0.47247,     0.47347,     0.47447,     0.47548,     0.47648,     0.47748,     0.47848,     0.47948,\n",
              "           0.48048,     0.48148,     0.48248,     0.48348,     0.48448,     0.48549,     0.48649,     0.48749,     0.48849,     0.48949,     0.49049,     0.49149,     0.49249,     0.49349,     0.49449,      0.4955,      0.4965,      0.4975,      0.4985,      0.4995,      0.5005,      0.5015,      0.5025,      0.5035,\n",
              "            0.5045,     0.50551,     0.50651,     0.50751,     0.50851,     0.50951,     0.51051,     0.51151,     0.51251,     0.51351,     0.51451,     0.51552,     0.51652,     0.51752,     0.51852,     0.51952,     0.52052,     0.52152,     0.52252,     0.52352,     0.52452,     0.52553,     0.52653,     0.52753,\n",
              "           0.52853,     0.52953,     0.53053,     0.53153,     0.53253,     0.53353,     0.53453,     0.53554,     0.53654,     0.53754,     0.53854,     0.53954,     0.54054,     0.54154,     0.54254,     0.54354,     0.54454,     0.54555,     0.54655,     0.54755,     0.54855,     0.54955,     0.55055,     0.55155,\n",
              "           0.55255,     0.55355,     0.55455,     0.55556,     0.55656,     0.55756,     0.55856,     0.55956,     0.56056,     0.56156,     0.56256,     0.56356,     0.56456,     0.56557,     0.56657,     0.56757,     0.56857,     0.56957,     0.57057,     0.57157,     0.57257,     0.57357,     0.57457,     0.57558,\n",
              "           0.57658,     0.57758,     0.57858,     0.57958,     0.58058,     0.58158,     0.58258,     0.58358,     0.58458,     0.58559,     0.58659,     0.58759,     0.58859,     0.58959,     0.59059,     0.59159,     0.59259,     0.59359,     0.59459,      0.5956,      0.5966,      0.5976,      0.5986,      0.5996,\n",
              "            0.6006,      0.6016,      0.6026,      0.6036,      0.6046,     0.60561,     0.60661,     0.60761,     0.60861,     0.60961,     0.61061,     0.61161,     0.61261,     0.61361,     0.61461,     0.61562,     0.61662,     0.61762,     0.61862,     0.61962,     0.62062,     0.62162,     0.62262,     0.62362,\n",
              "           0.62462,     0.62563,     0.62663,     0.62763,     0.62863,     0.62963,     0.63063,     0.63163,     0.63263,     0.63363,     0.63463,     0.63564,     0.63664,     0.63764,     0.63864,     0.63964,     0.64064,     0.64164,     0.64264,     0.64364,     0.64464,     0.64565,     0.64665,     0.64765,\n",
              "           0.64865,     0.64965,     0.65065,     0.65165,     0.65265,     0.65365,     0.65465,     0.65566,     0.65666,     0.65766,     0.65866,     0.65966,     0.66066,     0.66166,     0.66266,     0.66366,     0.66466,     0.66567,     0.66667,     0.66767,     0.66867,     0.66967,     0.67067,     0.67167,\n",
              "           0.67267,     0.67367,     0.67467,     0.67568,     0.67668,     0.67768,     0.67868,     0.67968,     0.68068,     0.68168,     0.68268,     0.68368,     0.68468,     0.68569,     0.68669,     0.68769,     0.68869,     0.68969,     0.69069,     0.69169,     0.69269,     0.69369,     0.69469,      0.6957,\n",
              "            0.6967,      0.6977,      0.6987,      0.6997,      0.7007,      0.7017,      0.7027,      0.7037,      0.7047,     0.70571,     0.70671,     0.70771,     0.70871,     0.70971,     0.71071,     0.71171,     0.71271,     0.71371,     0.71471,     0.71572,     0.71672,     0.71772,     0.71872,     0.71972,\n",
              "           0.72072,     0.72172,     0.72272,     0.72372,     0.72472,     0.72573,     0.72673,     0.72773,     0.72873,     0.72973,     0.73073,     0.73173,     0.73273,     0.73373,     0.73473,     0.73574,     0.73674,     0.73774,     0.73874,     0.73974,     0.74074,     0.74174,     0.74274,     0.74374,\n",
              "           0.74474,     0.74575,     0.74675,     0.74775,     0.74875,     0.74975,     0.75075,     0.75175,     0.75275,     0.75375,     0.75475,     0.75576,     0.75676,     0.75776,     0.75876,     0.75976,     0.76076,     0.76176,     0.76276,     0.76376,     0.76476,     0.76577,     0.76677,     0.76777,\n",
              "           0.76877,     0.76977,     0.77077,     0.77177,     0.77277,     0.77377,     0.77477,     0.77578,     0.77678,     0.77778,     0.77878,     0.77978,     0.78078,     0.78178,     0.78278,     0.78378,     0.78478,     0.78579,     0.78679,     0.78779,     0.78879,     0.78979,     0.79079,     0.79179,\n",
              "           0.79279,     0.79379,     0.79479,      0.7958,      0.7968,      0.7978,      0.7988,      0.7998,      0.8008,      0.8018,      0.8028,      0.8038,      0.8048,     0.80581,     0.80681,     0.80781,     0.80881,     0.80981,     0.81081,     0.81181,     0.81281,     0.81381,     0.81481,     0.81582,\n",
              "           0.81682,     0.81782,     0.81882,     0.81982,     0.82082,     0.82182,     0.82282,     0.82382,     0.82482,     0.82583,     0.82683,     0.82783,     0.82883,     0.82983,     0.83083,     0.83183,     0.83283,     0.83383,     0.83483,     0.83584,     0.83684,     0.83784,     0.83884,     0.83984,\n",
              "           0.84084,     0.84184,     0.84284,     0.84384,     0.84484,     0.84585,     0.84685,     0.84785,     0.84885,     0.84985,     0.85085,     0.85185,     0.85285,     0.85385,     0.85485,     0.85586,     0.85686,     0.85786,     0.85886,     0.85986,     0.86086,     0.86186,     0.86286,     0.86386,\n",
              "           0.86486,     0.86587,     0.86687,     0.86787,     0.86887,     0.86987,     0.87087,     0.87187,     0.87287,     0.87387,     0.87487,     0.87588,     0.87688,     0.87788,     0.87888,     0.87988,     0.88088,     0.88188,     0.88288,     0.88388,     0.88488,     0.88589,     0.88689,     0.88789,\n",
              "           0.88889,     0.88989,     0.89089,     0.89189,     0.89289,     0.89389,     0.89489,      0.8959,      0.8969,      0.8979,      0.8989,      0.8999,      0.9009,      0.9019,      0.9029,      0.9039,      0.9049,     0.90591,     0.90691,     0.90791,     0.90891,     0.90991,     0.91091,     0.91191,\n",
              "           0.91291,     0.91391,     0.91491,     0.91592,     0.91692,     0.91792,     0.91892,     0.91992,     0.92092,     0.92192,     0.92292,     0.92392,     0.92492,     0.92593,     0.92693,     0.92793,     0.92893,     0.92993,     0.93093,     0.93193,     0.93293,     0.93393,     0.93493,     0.93594,\n",
              "           0.93694,     0.93794,     0.93894,     0.93994,     0.94094,     0.94194,     0.94294,     0.94394,     0.94494,     0.94595,     0.94695,     0.94795,     0.94895,     0.94995,     0.95095,     0.95195,     0.95295,     0.95395,     0.95495,     0.95596,     0.95696,     0.95796,     0.95896,     0.95996,\n",
              "           0.96096,     0.96196,     0.96296,     0.96396,     0.96496,     0.96597,     0.96697,     0.96797,     0.96897,     0.96997,     0.97097,     0.97197,     0.97297,     0.97397,     0.97497,     0.97598,     0.97698,     0.97798,     0.97898,     0.97998,     0.98098,     0.98198,     0.98298,     0.98398,\n",
              "           0.98498,     0.98599,     0.98699,     0.98799,     0.98899,     0.98999,     0.99099,     0.99199,     0.99299,     0.99399,     0.99499,       0.996,       0.997,       0.998,       0.999,           1]), array([[    0.92011,     0.92011,     0.90837,     0.90004,     0.89322,      0.8883,     0.88413,     0.88073,     0.87467,     0.87202,     0.86747,     0.86407,     0.86066,      0.8599,     0.85612,     0.85157,     0.84968,     0.84627,     0.84324,     0.84173,      0.8387,     0.83643,     0.83529,\n",
              "            0.83302,     0.83075,     0.82999,     0.82772,     0.82582,     0.82317,      0.8209,     0.81939,     0.81787,     0.81522,     0.81257,     0.81068,     0.80841,     0.80689,     0.80576,     0.80381,     0.80121,     0.80008,     0.79894,     0.79743,     0.79477,     0.79364,     0.79061,\n",
              "             0.7891,     0.78834,      0.7872,     0.78604,     0.78379,     0.78228,     0.78001,     0.77925,     0.77849,     0.77698,     0.77622,     0.77433,     0.77281,     0.77206,     0.77016,     0.76789,     0.76751,     0.76562,      0.7641,     0.76297,     0.76221,     0.76108,     0.75805,\n",
              "            0.75615,     0.75464,     0.75237,     0.75085,     0.75085,     0.74903,     0.74669,     0.74479,     0.74441,      0.7429,     0.74139,     0.74063,     0.73949,     0.73911,     0.73646,     0.73457,     0.73229,     0.73116,     0.73078,     0.72927,     0.72738,     0.72662,     0.72586,\n",
              "            0.72435,     0.72283,      0.7217,     0.72094,     0.71829,     0.71677,      0.7145,      0.7145,     0.71337,     0.71223,     0.71109,     0.71034,     0.70958,     0.70882,     0.70807,     0.70731,     0.70617,     0.70504,     0.70352,     0.70314,     0.70049,     0.69936,     0.69822,\n",
              "            0.69519,     0.69481,     0.69368,     0.69292,     0.69254,      0.6914,     0.69027,     0.68951,     0.68724,     0.68535,     0.68383,     0.68307,     0.68156,     0.67891,     0.67819,     0.67758,     0.67588,      0.6755,     0.67285,     0.67247,     0.67134,     0.67058,     0.66755,\n",
              "            0.66679,     0.66566,     0.66489,     0.66187,      0.6596,     0.65771,      0.6566,     0.65543,     0.65468,     0.65392,      0.6524,     0.65051,     0.64786,     0.64748,     0.64597,      0.6437,     0.64127,     0.64029,     0.63991,     0.63953,     0.63877,     0.63726,     0.63612,\n",
              "            0.63499,     0.63385,     0.63234,     0.63196,     0.63158,     0.62969,     0.62893,     0.62714,     0.62552,     0.62476,     0.62391,     0.62098,     0.62098,     0.61963,     0.61757,     0.61643,     0.61643,     0.61454,     0.61378,     0.61265,     0.61265,     0.61052,     0.60924,\n",
              "            0.60886,     0.60772,     0.60621,     0.60583,     0.60525,     0.60432,     0.60318,      0.6028,      0.6011,     0.60015,     0.59902,      0.5981,     0.59599,     0.59561,     0.59409,     0.59409,     0.59296,     0.59144,     0.59031,     0.58943,     0.58841,     0.58712,     0.58652,\n",
              "            0.58576,     0.58463,     0.58425,     0.58311,     0.58211,     0.58113,     0.58084,     0.57895,     0.57819,     0.57743,      0.5763,      0.5744,     0.57327,     0.57327,     0.57257,     0.57137,     0.57024,     0.56835,     0.56721,     0.56607,     0.56607,     0.56607,     0.56548,\n",
              "            0.56418,      0.5638,     0.56267,     0.56132,     0.56002,     0.55812,     0.55792,     0.55544,     0.55379,      0.5532,     0.55055,     0.54941,     0.54866,     0.54676,     0.54608,     0.54487,     0.54449,     0.54339,     0.54298,     0.54229,     0.54146,     0.54108,      0.5407,\n",
              "            0.53957,     0.53957,     0.53849,     0.53692,     0.53578,     0.53502,     0.53339,     0.53174,     0.53086,     0.53086,      0.5301,     0.52904,     0.52859,     0.52821,     0.52745,     0.52632,     0.52582,     0.52556,     0.52404,     0.52389,     0.52269,     0.52253,     0.52064,\n",
              "            0.51988,     0.51988,     0.51874,     0.51874,     0.51799,     0.51723,     0.51644,      0.5142,     0.51382,     0.51382,     0.51231,     0.51117,     0.51003,     0.50966,     0.50738,     0.50625,     0.50521,     0.50398,      0.5036,     0.50284,      0.5017,     0.50095,     0.50021,\n",
              "            0.49943,     0.49867,     0.49754,     0.49648,     0.49375,       0.493,       0.493,     0.49237,      0.4911,     0.48732,     0.48656,     0.48618,     0.48542,     0.48504,     0.48391,     0.48239,     0.48182,     0.48126,     0.47936,     0.47785,     0.47625,     0.47482,     0.47406,\n",
              "            0.47293,     0.47255,     0.47141,     0.47007,     0.46952,     0.46816,     0.46725,     0.46688,      0.4646,     0.46346,     0.46346,      0.4627,     0.46195,     0.46195,      0.4616,     0.46081,     0.45843,      0.4574,     0.45589,     0.45551,     0.45445,     0.45434,     0.45357,\n",
              "            0.45279,     0.45134,     0.44961,     0.44869,      0.4469,     0.44604,     0.44489,     0.44377,     0.44377,     0.44339,     0.44264,     0.44125,     0.44086,     0.43963,     0.43885,     0.43846,     0.43733,     0.43696,     0.43603,     0.43506,     0.43382,     0.43254,     0.43131,\n",
              "            0.43091,     0.42938,     0.42787,     0.42673,     0.42446,     0.42278,     0.42219,     0.42143,     0.41954,     0.41919,     0.41842,     0.41764,     0.41726,     0.41678,     0.41563,     0.41462,     0.41424,     0.41234,     0.41159,     0.40981,     0.40931,     0.40856,     0.40591,\n",
              "            0.40591,     0.40588,     0.40477,     0.40439,     0.40401,     0.40348,     0.40288,     0.40101,     0.40042,     0.39758,     0.39644,     0.39606,     0.39568,     0.39465,     0.39379,     0.39341,     0.39183,     0.39136,     0.39029,     0.38925,       0.388,     0.38735,     0.38723,\n",
              "             0.3849,     0.38333,      0.3818,      0.3799,     0.37902,     0.37864,     0.37798,      0.3757,     0.37448,     0.37255,     0.37221,     0.37107,     0.37107,     0.37107,     0.37099,     0.37069,     0.36918,      0.3688,     0.36755,      0.3664,     0.36488,     0.36406,     0.36287,\n",
              "            0.36198,     0.36134,     0.36085,      0.3598,     0.35782,     0.35751,     0.35706,     0.35555,     0.35517,     0.35517,     0.35444,     0.35403,      0.3529,     0.35024,     0.34985,     0.34757,     0.34643,      0.3457,     0.34495,     0.34403,     0.34343,     0.34288,     0.34135,\n",
              "            0.34059,     0.33906,     0.33775,     0.33639,     0.33624,      0.3351,     0.33371,     0.33283,     0.33169,     0.33169,     0.33131,     0.33079,     0.33059,     0.32986,     0.32834,     0.32757,     0.32715,     0.32642,     0.32545,     0.32526,      0.3245,     0.32412,      0.3241,\n",
              "            0.32372,     0.32353,     0.32223,     0.32217,     0.32102,     0.31912,      0.3173,      0.3173,     0.31617,     0.31617,     0.31566,     0.31452,     0.31337,     0.31314,     0.31297,     0.31238,     0.31191,     0.31172,     0.31028,     0.30952,     0.30935,     0.30874,     0.30847,\n",
              "            0.30828,     0.30746,     0.30567,     0.30529,      0.3049,     0.30413,     0.30223,      0.3014,     0.30064,     0.30031,     0.29916,     0.29877,     0.29875,     0.29838,     0.29799,     0.29761,     0.29721,     0.29572,     0.29496,     0.29383,     0.29301,     0.29262,     0.29223,\n",
              "            0.29033,     0.28891,     0.28842,     0.28803,     0.28701,     0.28581,     0.28561,     0.28512,     0.28495,     0.28419,      0.2836,     0.28323,     0.28323,     0.28323,     0.28323,     0.28224,     0.28185,     0.28058,      0.2802,     0.27879,      0.2783,      0.2783,     0.27801,\n",
              "            0.27686,     0.27641,     0.27641,     0.27603,     0.27531,     0.27322,     0.27283,     0.27111,     0.27016,     0.26901,      0.2677,     0.26732,     0.26633,     0.26607,     0.26587,     0.26441,     0.26392,     0.26364,     0.26287,      0.2621,     0.26133,     0.26126,     0.26056,\n",
              "            0.26051,     0.26016,     0.25975,     0.25937,     0.25899,     0.25766,     0.25707,     0.25651,     0.25574,     0.25559,     0.25559,     0.25458,     0.25419,     0.25394,     0.25374,     0.25302,     0.25188,     0.25111,     0.25072,     0.24991,     0.24881,     0.24854,     0.24785,\n",
              "            0.24708,     0.24669,     0.24536,     0.24536,     0.24325,     0.24287,     0.24233,     0.24133,     0.24082,     0.23968,     0.23968,     0.23883,     0.23731,     0.23692,      0.2354,     0.23476,     0.23462,     0.23385,     0.23331,     0.23175,     0.23136,     0.23022,     0.22946,\n",
              "            0.22946,      0.2287,      0.2287,     0.22829,     0.22803,     0.22731,     0.22643,     0.22578,     0.22501,      0.2234,     0.22234,     0.22139,     0.21948,      0.2191,     0.21886,     0.21756,     0.21734,      0.2166,     0.21621,     0.21507,     0.21487,     0.21429,     0.21311,\n",
              "            0.21268,     0.21249,     0.21204,     0.21102,     0.20959,     0.20901,     0.20853,     0.20739,     0.20712,     0.20712,     0.20712,     0.20712,     0.20674,      0.2056,     0.20353,     0.20295,     0.20295,     0.20275,     0.20179,      0.2014,     0.20102,      0.2003,     0.19988,\n",
              "            0.19962,     0.19927,     0.19889,     0.19755,     0.19716,      0.1969,     0.19681,     0.19655,     0.19504,      0.1939,     0.19294,     0.19217,     0.19197,      0.1897,     0.18931,     0.18892,      0.1885,     0.18757,     0.18681,     0.18591,     0.18395,     0.18356,     0.18194,\n",
              "            0.18167,     0.18156,     0.18144,     0.18086,     0.18047,     0.17994,     0.17817,     0.17797,     0.17589,     0.17475,     0.17379,     0.17302,     0.17223,     0.17092,     0.17053,     0.16844,     0.16812,     0.16812,     0.16709,     0.16632,     0.16461,     0.16422,     0.16333,\n",
              "             0.1625,     0.16097,     0.15964,     0.15909,     0.15829,     0.15676,     0.15651,     0.15543,     0.15371,     0.15296,      0.1527,     0.15198,     0.15167,     0.15095,     0.15044,      0.1491,     0.14799,     0.14773,     0.14586,     0.14524,     0.14505,     0.14448,     0.14428,\n",
              "            0.14264,     0.14238,     0.14137,     0.14029,     0.13921,     0.13893,     0.13761,     0.13684,     0.13475,     0.13431,     0.13318,     0.13303,     0.13236,     0.13149,     0.13053,     0.13003,     0.12571,     0.12441,     0.12422,     0.12382,     0.12236,     0.12194,     0.11947,\n",
              "            0.11814,      0.1175,     0.11717,     0.11546,     0.11466,     0.11317,     0.11273,     0.11145,     0.10784,     0.10737,     0.10669,     0.10468,     0.10383,     0.10278,     0.10197,    0.099065,    0.098528,    0.097312,    0.095082,    0.094673,    0.093527,    0.092753,    0.092183,\n",
              "           0.091579,     0.09065,    0.089709,     0.08945,    0.087338,    0.086825,    0.085897,    0.085638,    0.083855,    0.083001,    0.082302,     0.08071,    0.078478,    0.077662,    0.076547,    0.075182,    0.074794,    0.073648,    0.072685,    0.071168,    0.069996,    0.068463,    0.067621,\n",
              "           0.067289,    0.066198,    0.065736,    0.064203,    0.063709,    0.061893,    0.061229,    0.060341,    0.058428,    0.057035,    0.056497,    0.054206,    0.053599,    0.052654,     0.05112,    0.048837,    0.048053,    0.047331,    0.046839,    0.046645,     0.04595,    0.044929,    0.043873,\n",
              "           0.043615,    0.041843,    0.040689,    0.039912,     0.03955,    0.039117,    0.037205,    0.036768,     0.03635,    0.035424,    0.034479,    0.033702,    0.032934,    0.031789,    0.030995,    0.029131,    0.028873,    0.028398,    0.027511,    0.026778,    0.026623,    0.025711,    0.025555,\n",
              "             0.0254,    0.025162,    0.024728,    0.023573,    0.021661,    0.021234,    0.020965,    0.020468,    0.020069,    0.019958,    0.019847,    0.019736,    0.019464,    0.018461,    0.017685,     0.01653,    0.016018,    0.015415,     0.01526,     0.01494,    0.013785,    0.013542,    0.013431,\n",
              "           0.013321,    0.012952,    0.012734,    0.012579,    0.012138,    0.011612,    0.011483,    0.011324,    0.010919,    0.010808,    0.010697,    0.010565,    0.010306,   0.0093914,   0.0090722,   0.0090016,    0.008931,   0.0088605,   0.0087899,   0.0087193,   0.0083785,   0.0078512,   0.0075925,\n",
              "          0.0073935,   0.0071995,   0.0071187,   0.0070411,   0.0069635,   0.0068858,    0.006791,   0.0065322,   0.0060443,   0.0059473,   0.0058503,   0.0057532,   0.0052072,   0.0048191,   0.0041087,   0.0039146,    0.003523,   0.0032756,   0.0031203,    0.002869,   0.0025374,   0.0022787,   0.0018589,\n",
              "          0.0017884,   0.0017178,   0.0016472,   0.0015767,   0.0015042,    0.001418,   0.0013317,   0.0012455,   0.0011592,  0.00085261,           0,           0,           0,           0,           0,           0,           0,           0,           0,           0,           0,           0,           0,\n",
              "                  0,           0,           0,           0,           0,           0,           0,           0,           0,           0,           0,           0,           0,           0,           0,           0,           0,           0,           0,           0,           0,           0,           0,\n",
              "                  0,           0,           0,           0,           0,           0,           0,           0,           0,           0,           0,           0,           0,           0,           0,           0,           0,           0,           0,           0,           0,           0,           0,\n",
              "                  0,           0,           0,           0,           0,           0,           0,           0,           0,           0,           0]]), 'Confidence', 'Recall']]\n",
              "fitness: 0.33713392088697547\n",
              "keys: ['metrics/precision(B)', 'metrics/recall(B)', 'metrics/mAP50(B)', 'metrics/mAP50-95(B)']\n",
              "maps: array([    0.30948])\n",
              "names: {0: 'fire'}\n",
              "plot: True\n",
              "results_dict: {'metrics/precision(B)': 0.6051082286597576, 'metrics/recall(B)': 0.5357819007951533, 'metrics/mAP50(B)': 0.5860300774784469, 'metrics/mAP50-95(B)': 0.3094787923768119, 'fitness': 0.33713392088697547}\n",
              "save_dir: PosixPath('runs/detect/data13')\n",
              "speed: {'preprocess': 0.2976231055684609, 'inference': 10.48713745457111, 'loss': 0.0005543428679110587, 'postprocess': 1.842169478388116}\n",
              "task: 'detect'"
            ]
          },
          "metadata": {},
          "execution_count": 10
        }
      ]
    },
    {
      "cell_type": "code",
      "source": [
        "from google.colab import drive\n",
        "drive.mount('/content/drive')"
      ],
      "metadata": {
        "id": "20oIkypwm7NS"
      },
      "execution_count": null,
      "outputs": []
    },
    {
      "cell_type": "code",
      "source": [],
      "metadata": {
        "id": "A2MbFFZsQ013"
      },
      "execution_count": null,
      "outputs": []
    }
  ]
}